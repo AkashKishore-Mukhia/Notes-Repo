{
 "cells": [
  {
   "cell_type": "raw",
   "id": "2d712735",
   "metadata": {},
   "source": [
    "In python we use (__) in front of attributes that will be not directly visible outside."
   ]
  },
  {
   "cell_type": "code",
   "execution_count": 2,
   "id": "241d2f76",
   "metadata": {},
   "outputs": [
    {
     "name": "stdout",
     "output_type": "stream",
     "text": [
      "secret\n"
     ]
    },
    {
     "ename": "AttributeError",
     "evalue": "'myClass' object has no attribute '__hidden_variable'",
     "output_type": "error",
     "traceback": [
      "\u001b[31m---------------------------------------------------------------------------\u001b[39m",
      "\u001b[31mAttributeError\u001b[39m                            Traceback (most recent call last)",
      "\u001b[36mCell\u001b[39m\u001b[36m \u001b[39m\u001b[32mIn[2]\u001b[39m\u001b[32m, line 11\u001b[39m\n\u001b[32m      9\u001b[39m obj = myClass()\n\u001b[32m     10\u001b[39m \u001b[38;5;28mprint\u001b[39m(obj.showSecret())\n\u001b[32m---> \u001b[39m\u001b[32m11\u001b[39m \u001b[38;5;28mprint\u001b[39m(obj.__hidden_variable)\n",
      "\u001b[31mAttributeError\u001b[39m: 'myClass' object has no attribute '__hidden_variable'"
     ]
    }
   ],
   "source": [
    "class myClass:\n",
    "\n",
    "    # private variable\n",
    "    __hidden_variable = 'secret'\n",
    "    \n",
    "    def showSecret(self):\n",
    "        return self.__hidden_variable\n",
    "    \n",
    "obj = myClass()\n",
    "print(obj.showSecret())\n",
    "print(obj.__hidden_variable)\n",
    "\n",
    "# a way to access hiddent attributes using object reference\n",
    "# print(obj._myClass__hidden_variable)"
   ]
  },
  {
   "cell_type": "code",
   "execution_count": 4,
   "id": "b5da7df5",
   "metadata": {},
   "outputs": [
    {
     "name": "stdout",
     "output_type": "stream",
     "text": [
      "cls instancetiated\n"
     ]
    },
    {
     "data": {
      "text/plain": [
       "'<__main__.cls object at 0x0000026BBE7B66C0>'"
      ]
     },
     "execution_count": 4,
     "metadata": {},
     "output_type": "execute_result"
    }
   ],
   "source": [
    "class cls:\n",
    "    def __init__(self):\n",
    "        print('cls instancetiated')\n",
    "    def show_info():\n",
    "        print('this cls has only one method called show_info')\n",
    "        \n",
    "\n",
    "x = cls()\n",
    "x.__str__()"
   ]
  },
  {
   "cell_type": "code",
   "execution_count": null,
   "id": "081a5bca",
   "metadata": {},
   "outputs": [],
   "source": []
  }
 ],
 "metadata": {
  "kernelspec": {
   "display_name": "Python 3 (ipykernel)",
   "language": "python",
   "name": "python3"
  },
  "language_info": {
   "codemirror_mode": {
    "name": "ipython",
    "version": 3
   },
   "file_extension": ".py",
   "mimetype": "text/x-python",
   "name": "python",
   "nbconvert_exporter": "python",
   "pygments_lexer": "ipython3",
   "version": "3.12.9"
  }
 },
 "nbformat": 4,
 "nbformat_minor": 5
}
