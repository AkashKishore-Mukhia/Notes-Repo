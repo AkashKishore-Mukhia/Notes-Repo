{
  "metadata": {
    "kernelspec": {
      "name": "python",
      "display_name": "Python (Pyodide)",
      "language": "python"
    },
    "language_info": {
      "codemirror_mode": {
        "name": "python",
        "version": 3
      },
      "file_extension": ".py",
      "mimetype": "text/x-python",
      "name": "python",
      "nbconvert_exporter": "python",
      "pygments_lexer": "ipython3",
      "version": "3.8"
    }
  },
  "nbformat_minor": 5,
  "nbformat": 4,
  "cells": [
    {
      "id": "9d2b3ac1-87f3-4a54-aaa0-b44388a65c9f",
      "cell_type": "markdown",
      "source": "## Packages\n\n- Packages are a encapsulated mechanism to group multiple modules into single unit.\n- Packages is nothing but a folder or directory which represents collection of python modules.\n- Any folder or directory contains `__init__.py` file is considered as a python package.\n- A package can contain sub packages also.",
      "metadata": {}
    },
    {
      "id": "60083908-84b6-4eb8-ae0b-19977daad0a4",
      "cell_type": "markdown",
      "source": "`Note:` \\_\\_init\\_\\_.py file is needed to make a directory a python pacakge, but it's mandatory only before python 3.3 version.",
      "metadata": {}
    },
    {
      "id": "38342990-06a1-4256-8c00-af00dd5b15a5",
      "cell_type": "code",
      "source": "",
      "metadata": {
        "trusted": true
      },
      "outputs": [],
      "execution_count": null
    }
  ]
}