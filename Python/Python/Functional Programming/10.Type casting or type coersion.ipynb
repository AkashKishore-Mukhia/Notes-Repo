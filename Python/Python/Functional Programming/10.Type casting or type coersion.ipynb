{
 "cells": [
  {
   "cell_type": "markdown",
   "id": "bbff2525-8c4f-4d15-b6db-6cab733aca3d",
   "metadata": {},
   "source": [
    "## Type Casting"
   ]
  },
  {
   "cell_type": "markdown",
   "id": "54a7329b-96f5-4c9c-b794-77b966d8e0ad",
   "metadata": {},
   "source": [
    "### Casting type to int:"
   ]
  },
  {
   "cell_type": "code",
   "execution_count": 1,
   "id": "9794a03c-a92c-45ab-9eb5-f23d6c872793",
   "metadata": {},
   "outputs": [
    {
     "name": "stdout",
     "output_type": "stream",
     "text": [
      "123\n"
     ]
    }
   ],
   "source": [
    "print(int(123.456))"
   ]
  },
  {
   "cell_type": "markdown",
   "id": "ee5eef7b-43a5-4550-8fc1-b5f90636af91",
   "metadata": {},
   "source": [
    "`Note:` From complex to int is not allowed"
   ]
  },
  {
   "cell_type": "code",
   "execution_count": 2,
   "id": "3b79d592-1497-4f21-b039-59593744deb0",
   "metadata": {},
   "outputs": [
    {
     "ename": "TypeError",
     "evalue": "int() argument must be a string, a bytes-like object or a real number, not 'complex'",
     "output_type": "error",
     "traceback": [
      "\u001b[31m---------------------------------------------------------------------------\u001b[39m",
      "\u001b[31mTypeError\u001b[39m                                 Traceback (most recent call last)",
      "\u001b[36mCell\u001b[39m\u001b[36m \u001b[39m\u001b[32mIn[2]\u001b[39m\u001b[32m, line 1\u001b[39m\n\u001b[32m----> \u001b[39m\u001b[32m1\u001b[39m \u001b[38;5;28mprint\u001b[39m(\u001b[38;5;28mint\u001b[39m(\u001b[32m10\u001b[39m+\u001b[32m2\u001b[39mj))\n",
      "\u001b[31mTypeError\u001b[39m: int() argument must be a string, a bytes-like object or a real number, not 'complex'"
     ]
    }
   ],
   "source": [
    "print(int(10+2j))"
   ]
  },
  {
   "cell_type": "code",
   "execution_count": 3,
   "id": "424c434b-3b72-4d1f-a01b-f2cbb46179be",
   "metadata": {},
   "outputs": [
    {
     "name": "stdout",
     "output_type": "stream",
     "text": [
      "1\n"
     ]
    }
   ],
   "source": [
    "print(int(True))"
   ]
  },
  {
   "cell_type": "markdown",
   "id": "a86f9b38-769f-405e-b923-5af5a05939af",
   "metadata": {},
   "source": [
    "`Note:` if we can only convert decimal representation of string value(base 10) to int values only."
   ]
  },
  {
   "cell_type": "code",
   "execution_count": 12,
   "id": "c0bc3fea-0d69-4ab9-a34d-43b98435c33f",
   "metadata": {},
   "outputs": [
    {
     "name": "stdout",
     "output_type": "stream",
     "text": [
      "10\n"
     ]
    }
   ],
   "source": [
    "print(int('10'))"
   ]
  },
  {
   "cell_type": "code",
   "execution_count": 11,
   "id": "059a8983-a257-446e-a39a-29d964785ba7",
   "metadata": {},
   "outputs": [
    {
     "ename": "ValueError",
     "evalue": "invalid literal for int() with base 10: '10.5'",
     "output_type": "error",
     "traceback": [
      "\u001b[31m---------------------------------------------------------------------------\u001b[39m",
      "\u001b[31mValueError\u001b[39m                                Traceback (most recent call last)",
      "\u001b[36mCell\u001b[39m\u001b[36m \u001b[39m\u001b[32mIn[11]\u001b[39m\u001b[32m, line 1\u001b[39m\n\u001b[32m----> \u001b[39m\u001b[32m1\u001b[39m \u001b[38;5;28mprint\u001b[39m(\u001b[38;5;28mint\u001b[39m(\u001b[33m'\u001b[39m\u001b[33m10.5\u001b[39m\u001b[33m'\u001b[39m))\n",
      "\u001b[31mValueError\u001b[39m: invalid literal for int() with base 10: '10.5'"
     ]
    }
   ],
   "source": [
    "print(int('10.5'))"
   ]
  },
  {
   "cell_type": "markdown",
   "id": "40563b04-307c-45d7-8e65-527e96f13cd5",
   "metadata": {},
   "source": [
    "### Casting type to float:\n",
    "\n",
    "First ones are same like int()."
   ]
  },
  {
   "cell_type": "code",
   "execution_count": 18,
   "id": "5343ffe1-e9ec-40ec-b60f-3de035c6f651",
   "metadata": {},
   "outputs": [
    {
     "name": "stdout",
     "output_type": "stream",
     "text": [
      "10.0\n"
     ]
    }
   ],
   "source": [
    "print(float('10'))"
   ]
  },
  {
   "cell_type": "code",
   "execution_count": 19,
   "id": "bbf757f8-69e0-4175-a68a-4f4bc04a9d72",
   "metadata": {},
   "outputs": [
    {
     "name": "stdout",
     "output_type": "stream",
     "text": [
      "10.5\n"
     ]
    }
   ],
   "source": [
    "print(float('10.5'))"
   ]
  },
  {
   "cell_type": "markdown",
   "id": "233cf90f-809e-4922-a9fa-bfe82c7499a6",
   "metadata": {},
   "source": [
    "**Immutable vs Fundamental data type**\n",
    "\n",
    "`Note:` All the fundamental data types are immutable in nature.\n",
    "\n",
    "one object is created and shared with the all indentifiers holding same value, because of that all the fundamental data types need to be immutable"
   ]
  },
  {
   "cell_type": "code",
   "execution_count": 23,
   "id": "6de8d162-0063-4f60-a79b-e6c49539b5aa",
   "metadata": {},
   "outputs": [
    {
     "name": "stdout",
     "output_type": "stream",
     "text": [
      "x--> 140719134288600\n",
      "y--> 140719134288600\n"
     ]
    }
   ],
   "source": [
    "x = 10\n",
    "y = 10\n",
    "print('x-->', id(x))\n",
    "print('y-->', id(y))\n",
    "y = 20"
   ]
  },
  {
   "cell_type": "markdown",
   "id": "376b68b0-bd64-48d6-a57d-fa68207d56c5",
   "metadata": {},
   "source": [
    "**Object reusability for fundamental data types lies only in the below ranges:**\n",
    "\n",
    "`Int:` 0 - 256\n",
    "\n",
    "`Bool:` Always\n",
    "\n",
    "`Str:` Always"
   ]
  },
  {
   "cell_type": "code",
   "execution_count": null,
   "id": "2b1500a0-9675-4f89-9283-13d0e1a07d78",
   "metadata": {},
   "outputs": [],
   "source": []
  }
 ],
 "metadata": {
  "kernelspec": {
   "display_name": "Python 3 (ipykernel)",
   "language": "python",
   "name": "python3"
  },
  "language_info": {
   "codemirror_mode": {
    "name": "ipython",
    "version": 3
   },
   "file_extension": ".py",
   "mimetype": "text/x-python",
   "name": "python",
   "nbconvert_exporter": "python",
   "pygments_lexer": "ipython3",
   "version": "3.12.9"
  }
 },
 "nbformat": 4,
 "nbformat_minor": 5
}
