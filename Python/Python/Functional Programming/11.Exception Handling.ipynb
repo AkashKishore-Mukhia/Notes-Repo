{
  "metadata": {
    "kernelspec": {
      "name": "python",
      "display_name": "Python (Pyodide)",
      "language": "python"
    },
    "language_info": {
      "codemirror_mode": {
        "name": "python",
        "version": 3
      },
      "file_extension": ".py",
      "mimetype": "text/x-python",
      "name": "python",
      "nbconvert_exporter": "python",
      "pygments_lexer": "ipython3",
      "version": "3.8"
    }
  },
  "nbformat_minor": 5,
  "nbformat": 4,
  "cells": [
    {
      "id": "5e0add58-0fdd-41b5-84b2-b5fc34b2b63f",
      "cell_type": "markdown",
      "source": "## Exception Handling:\n\n**what is an Exception ?**\n\nAn Unwanted and unexpected event that disturbs the normal flow of a program is know as an Exception.\n\neg.\n- FileNotFound error\n- ZeroDivision error\n- etc....\n\n**What is main objective of Exception Handling ?**\n\nThe main objective of exception handling is gracefull / normal termination of the application(i.e we should not block our resources and we should not miss anything)\n\n`Note:` In python every exception is a class. When any exception occures PVM creates a object of this expetion class and throws an exption error.",
      "metadata": {}
    },
    {
      "id": "85518634-e53f-4e33-84fd-3c4b40f715eb",
      "cell_type": "markdown",
      "source": "### Customized Exception Handling by using try-except:\nThe code which may raise exception is called risky code and we have to take this risky code inside try block. The corresponding handling code should be inside except block:\n\n```python\ntry:\n    risky code\nexcept:\n    handle code / alternate code\n```",
      "metadata": {}
    },
    {
      "id": "dc707398-5497-4a00-9b7f-ef5c5c935a98",
      "cell_type": "markdown",
      "source": "#### Print Exception Information:\n```python\ntry:\n    print(10/0)\nexcept ZeroDivisionError as msg:\n    print(msg)\n```",
      "metadata": {}
    },
    {
      "id": "6ffa55d0-1808-4327-9f2f-64b4183ec3a3",
      "cell_type": "markdown",
      "source": "#### Single except block that can handle multiple exceptions:\n\nwe can write a single except block that can handle mutiple exceptions.\n\n```python\nexcept(exc1, exc2, exc3, ...) or\nexcept(exc1, exc2, exc3, ...) as msg:\n```",
      "metadata": {}
    },
    {
      "id": "b8216bf7-ddd8-4a1b-86e4-14c4fd94a163",
      "cell_type": "markdown",
      "source": "#### Default Except Block:\n\nWe can exception any kind of exception occured in the program using default except block.\n```python\ntry:\n    print(10/0)\nexcept Exception as msg:\n    print(msg)\n```\n",
      "metadata": {}
    },
    {
      "id": "c0029f6e-6d6a-4f30-a626-01a4fec04a2a",
      "cell_type": "markdown",
      "source": "#### Finally Block:\n\n- It's not recomended to write clean up code inside try block, because there is no guarentee for the execution of the every statement inside try block.\n- It's not recomended to write clean up code inside exception block, because if there is no exception then except block code will not execute.\n- Hence we require some place to maintain clean up code irespectiv of whether exception raise or not, that's where `finally` comes into picture.",
      "metadata": {}
    },
    {
      "id": "ca757a72-c5f9-4bba-92af-57f88a9c998b",
      "cell_type": "code",
      "source": "# if there is no exception\ntry:\n    print('try')\nexcept:\n    print('except')\nfinally:\n    print('finally')",
      "metadata": {
        "trusted": true
      },
      "outputs": [
        {
          "name": "stdout",
          "output_type": "stream",
          "text": "try\nfinally\n"
        }
      ],
      "execution_count": 1
    },
    {
      "id": "e4b307b2-89d2-48b1-903a-2a5e42c1b179",
      "cell_type": "code",
      "source": "# if there is exception\ntry:\n    print('try')\n    print(10/0)\nexcept:\n    print('except')\nfinally:\n    print('finally')",
      "metadata": {
        "trusted": true
      },
      "outputs": [
        {
          "name": "stdout",
          "output_type": "stream",
          "text": "try\nexcept\nfinally\n"
        }
      ],
      "execution_count": 2
    },
    {
      "id": "98437cf7-505e-4143-972f-d74930eac586",
      "cell_type": "markdown",
      "source": "#### Nested try-except-finally block:\n\nNesting of try-except-finally block is possible.\n\nGeneral ricky code we have to take inside the outer try block, and too much risky code we have to take inside inner try block. Inside inner try block if any exception occures then inner except block is responsible to handle. If it is unable to handle then outer except block is resposible to handle.",
      "metadata": {}
    },
    {
      "id": "85b869b2-a5a1-42e1-bccc-99e83fa51323",
      "cell_type": "code",
      "source": "# if the inner except block handles the exception\ntry:\n    print('outer try block')\n    try:\n        print('inner try block')\n        print(10/0)\n    except ZeroDivisionError:\n        print('inner except block')\n    finally:\n        print('inner finally block') \nexcept:\n    print('outer except block')\nfinally:\n    print('outer finally block')",
      "metadata": {
        "trusted": true
      },
      "outputs": [
        {
          "name": "stdout",
          "output_type": "stream",
          "text": "outer try block\ninner try block\ninner except block\ninner finally block\nouter finally block\n"
        }
      ],
      "execution_count": 4
    },
    {
      "id": "eae2b71b-d6f2-41c5-9f0e-56b67fc35165",
      "cell_type": "code",
      "source": "# if the inner except block not handles the exception\ntry:\n    print('outer try block')\n    try:\n        print('inner try block')\n        print(10/0)\n    except NameError:\n        print('inner except block')\n    finally:\n        print('inner finally block') \nexcept:\n    print('outer except block')\nfinally:\n    print('outer finally block')",
      "metadata": {
        "trusted": true
      },
      "outputs": [
        {
          "name": "stdout",
          "output_type": "stream",
          "text": "outer try block\ninner try block\ninner finally block\nouter except block\nouter finally block\n"
        }
      ],
      "execution_count": 5
    },
    {
      "id": "433deea2-828b-4edb-a291-c3aaf7c2b4bd",
      "cell_type": "markdown",
      "source": "#### else block with try-except-finally:\n\n- we can use else block with try-except-finally block\n- else block will be execute only if there is no exception inside try block.",
      "metadata": {}
    },
    {
      "id": "6093432a-4a67-4a4d-9f1f-6388a55f6753",
      "cell_type": "code",
      "source": "# else block if there is no exception in try block\ntry:\n    print('outer try block')\nexcept:\n    print('outer except block')\nelse:\n    print('else block in try-except-finally')\nfinally:\n    print('outer finally block')",
      "metadata": {
        "trusted": true
      },
      "outputs": [
        {
          "name": "stdout",
          "output_type": "stream",
          "text": "outer try block\nelse block in try-except-finally\nouter finally block\n"
        }
      ],
      "execution_count": 9
    },
    {
      "id": "1254653f-0d8c-42df-b362-a4aa45a992f1",
      "cell_type": "markdown",
      "source": "#### User Defined Exceptions:\n\n- Also know as customized exception.\n- some we have to define and raise exception explicitly to indicate that something goes wrong, such type of exception are called User Defined Exception.",
      "metadata": {}
    },
    {
      "id": "cfdc04a4-024e-424a-a234-9061bc708012",
      "cell_type": "markdown",
      "source": "#### How to define and raise customized exceptions:\n\nEvery Exception is python extends exception class directly or indirectly.\n\nsyntax:\n```python\n# syntax\nclass <className>(Predefined exception calss name):\n    def __init__(self, arg):\n        self.msg = arg\n\n# Example\nclass TooYoungException(Exception):\n    def __init__(self, arg):\n        self.msg = arg\n```\n\n`Note:` We can raise exception using the `raise` keyword as follows `raise TooYoungException('Message')`",
      "metadata": {}
    },
    {
      "id": "e666e9fe-9f77-4be4-b9fd-5f9655dc6687",
      "cell_type": "code",
      "source": "",
      "metadata": {
        "trusted": true
      },
      "outputs": [],
      "execution_count": null
    }
  ]
}