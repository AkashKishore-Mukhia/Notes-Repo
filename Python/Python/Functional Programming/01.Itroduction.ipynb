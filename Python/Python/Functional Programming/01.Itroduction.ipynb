{
 "cells": [
  {
   "cell_type": "markdown",
   "id": "bfafbfde-5982-409a-93fa-f6c81836ba46",
   "metadata": {},
   "source": [
    "## Python Introduction:\n",
    "Python is a general purpose high level programing language.\n",
    "\n",
    "Developed by guido van rossam.\n",
    "\n",
    "**Freatures of Python:**\n",
    "- simple and easy to learn\n",
    "- Free ware and open source\n",
    "- Dynamically typed language\n",
    "- Platform independent\n",
    "- Both procedural and object oriented\n",
    "- interpreted"
   ]
  },
  {
   "cell_type": "markdown",
   "id": "9cbe315c-b9c2-418e-82d0-bad603fb68f9",
   "metadata": {},
   "source": [
    "### Identifiers:\n",
    "\n",
    "Name used for indentification purpose know as indentifier.\n",
    "\n",
    "In python variable name, class name, function name, etc.\n",
    "\n",
    "Rule of Indentifiers alphabet symbol, digit(0-9), underscore(_), but it's not allowed to start with a digit.\n",
    "\n",
    "Keywords we are not allowed to use as an indentifier."
   ]
  },
  {
   "cell_type": "markdown",
   "id": "d85ccb06-7f81-4806-a4f5-76b48a4c0ab3",
   "metadata": {},
   "source": [
    "### Resereved keywords list\n",
    "\n",
    "There are `33 Reserved word` in python"
   ]
  },
  {
   "cell_type": "code",
   "execution_count": 5,
   "id": "1df0196e-4c18-43cd-b29b-3771f87e25ba",
   "metadata": {},
   "outputs": [],
   "source": [
    "# List of reserved words\n",
    "True, False, None\n",
    "and, or, not, is\n",
    "if, else, elif\n",
    "for, while, break, continue, return, in, yield\n",
    "try, except, finally, raise\n",
    "assert, import, from, as, class, def, pass\n",
    "global, nonlocal, lambda, del, with"
   ]
  },
  {
   "cell_type": "markdown",
   "id": "3d6d2595-3d3e-425e-8c77-bbc87f640c94",
   "metadata": {},
   "source": [
    "We can varify the reserved keyword list by running the below code snippet."
   ]
  },
  {
   "cell_type": "code",
   "execution_count": 9,
   "id": "121a820c-b0ee-4c0c-ad1f-38eb70820ef1",
   "metadata": {},
   "outputs": [
    {
     "data": {
      "text/plain": [
       "['False',\n",
       " 'None',\n",
       " 'True',\n",
       " 'and',\n",
       " 'as',\n",
       " 'assert',\n",
       " 'async',\n",
       " 'await',\n",
       " 'break',\n",
       " 'class',\n",
       " 'continue',\n",
       " 'def',\n",
       " 'del',\n",
       " 'elif',\n",
       " 'else',\n",
       " 'except',\n",
       " 'finally',\n",
       " 'for',\n",
       " 'from',\n",
       " 'global',\n",
       " 'if',\n",
       " 'import',\n",
       " 'in',\n",
       " 'is',\n",
       " 'lambda',\n",
       " 'nonlocal',\n",
       " 'not',\n",
       " 'or',\n",
       " 'pass',\n",
       " 'raise',\n",
       " 'return',\n",
       " 'try',\n",
       " 'while',\n",
       " 'with',\n",
       " 'yield']"
      ]
     },
     "execution_count": 9,
     "metadata": {},
     "output_type": "execute_result"
    }
   ],
   "source": [
    "# code snippet for the keyword list\n",
    "import keyword\n",
    "list(keyword.kwlist)"
   ]
  }
 ],
 "metadata": {
  "kernelspec": {
   "display_name": "Python 3 (ipykernel)",
   "language": "python",
   "name": "python3"
  },
  "language_info": {
   "codemirror_mode": {
    "name": "ipython",
    "version": 3
   },
   "file_extension": ".py",
   "mimetype": "text/x-python",
   "name": "python",
   "nbconvert_exporter": "python",
   "pygments_lexer": "ipython3",
   "version": "3.12.9"
  }
 },
 "nbformat": 4,
 "nbformat_minor": 5
}
