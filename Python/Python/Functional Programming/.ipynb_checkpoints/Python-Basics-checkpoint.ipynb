{
 "cells": [
  {
   "cell_type": "markdown",
   "id": "fbe66f8c",
   "metadata": {},
   "source": [
    "# Basics"
   ]
  },
  {
   "cell_type": "markdown",
   "id": "6527329f",
   "metadata": {},
   "source": [
    "## string"
   ]
  },
  {
   "cell_type": "raw",
   "id": "d7f168af",
   "metadata": {},
   "source": [
    "Multiline string used to print multiple lines"
   ]
  },
  {
   "cell_type": "code",
   "execution_count": 3,
   "id": "689d8a7f",
   "metadata": {},
   "outputs": [
    {
     "name": "stdout",
     "output_type": "stream",
     "text": [
      "this is a multiline statement\n",
      "which helps us to write multiline\n",
      "statements with using escape character\n"
     ]
    }
   ],
   "source": [
    "line = \"\"\"this is a multiline statement\n",
    "which helps us to write multiline\n",
    "statements with using escape character\"\"\"\n",
    "print(line)"
   ]
  },
  {
   "cell_type": "raw",
   "id": "651a9ff9",
   "metadata": {},
   "source": [
    "replace method replace a string with another string(all the occurances)"
   ]
  },
  {
   "cell_type": "code",
   "execution_count": 12,
   "id": "e4c0f3b4",
   "metadata": {},
   "outputs": [
    {
     "name": "stdout",
     "output_type": "stream",
     "text": [
      "thic ic a ctring\n"
     ]
    }
   ],
   "source": [
    "a = 'this is a string'\n",
    "print(a.replace('s', 'c'))  # not effecting the original object"
   ]
  },
  {
   "cell_type": "markdown",
   "id": "e0bd2362",
   "metadata": {},
   "source": [
    "## Function"
   ]
  },
  {
   "cell_type": "raw",
   "id": "e0bea064",
   "metadata": {},
   "source": [
    "if we don't know the number of argument we can prefix paramenter with `*`\n",
    "the inputs will be in a tuple."
   ]
  },
  {
   "cell_type": "code",
   "execution_count": 9,
   "id": "2bd7eb38",
   "metadata": {},
   "outputs": [
    {
     "name": "stdout",
     "output_type": "stream",
     "text": [
      "<class 'tuple'>\n",
      "(23, 2, 40, 3)\n"
     ]
    }
   ],
   "source": [
    "def my_fun(*parameter):\n",
    "    print(type(parameter))\n",
    "    print(parameter)\n",
    "    \n",
    "my_fun(23, 2, 40, 3)"
   ]
  },
  {
   "cell_type": "code",
   "execution_count": 2,
   "id": "ebaf5532",
   "metadata": {},
   "outputs": [
    {
     "name": "stdout",
     "output_type": "stream",
     "text": [
      "('non3',) {'name': 'akash'}\n"
     ]
    }
   ],
   "source": [
    "def test(*ar, **arg):\n",
    "    print(ar, arg)\n",
    "test('non3',name='akash')"
   ]
  },
  {
   "cell_type": "code",
   "execution_count": 8,
   "id": "af5470da",
   "metadata": {},
   "outputs": [
    {
     "name": "stdout",
     "output_type": "stream",
     "text": [
      "[1, 4, 9, 16, 25]\n"
     ]
    }
   ],
   "source": [
    "# lambda functions(anonymous functions)\n",
    "\n",
    "'''\n",
    "syntax:\n",
    "lambda <parameter>: <expression>\n",
    "'''\n",
    "ls = [1, 2, 3, 4, 5]\n",
    "\n",
    "print(list(map(lambda x: x**2, ls)))"
   ]
  },
  {
   "cell_type": "code",
   "execution_count": null,
   "id": "eef6d29b",
   "metadata": {},
   "outputs": [],
   "source": []
  },
  {
   "cell_type": "markdown",
   "id": "4de9b73a",
   "metadata": {},
   "source": [
    "## Sets"
   ]
  },
  {
   "cell_type": "raw",
   "id": "1fce4c25",
   "metadata": {},
   "source": [
    "A set is a hetrogenous collection of unordered, unchangeble, unindexed.\n",
    "Note: sets are unchangeble but you can add or remove elements to sets"
   ]
  },
  {
   "cell_type": "code",
   "execution_count": 14,
   "id": "3cbdaef9",
   "metadata": {},
   "outputs": [
    {
     "name": "stdout",
     "output_type": "stream",
     "text": [
      "{'windous', 'mac', 'linux'}\n"
     ]
    }
   ],
   "source": [
    "os = {'linux', 'windous'}\n",
    "os.add('mac')\n",
    "print(os)"
   ]
  },
  {
   "cell_type": "code",
   "execution_count": 17,
   "id": "d5f43f7a",
   "metadata": {},
   "outputs": [
    {
     "data": {
      "text/plain": [
       "{'android', 'ios', 'linux', 'mac', 'windous'}"
      ]
     },
     "execution_count": 17,
     "metadata": {},
     "output_type": "execute_result"
    }
   ],
   "source": [
    "phone = {'android', 'ios'}\n",
    "os.update(phone)   # update is used to merget two set and the argument does't need to be a set any iterable will work(tuple, list, dicstionary)\n",
    "os"
   ]
  },
  {
   "cell_type": "raw",
   "id": "2f2b5dcc",
   "metadata": {},
   "source": [
    "note: `remove` method will raise a error but `discard` not"
   ]
  },
  {
   "cell_type": "markdown",
   "id": "15d84f6b",
   "metadata": {},
   "source": [
    "## Exception Handle"
   ]
  },
  {
   "cell_type": "raw",
   "id": "dcdc52ac",
   "metadata": {},
   "source": [
    "`try` block lets you test a block of error.\n",
    "`exept` block lets you hanlde the error.\n",
    "`finally' block specified will execute regardless of try block is throw an error or not.\n",
    "`raise` throw a exception if a condition occurs."
   ]
  },
  {
   "cell_type": "code",
   "execution_count": 39,
   "id": "cb1e6d82",
   "metadata": {},
   "outputs": [
    {
     "ename": "NameError",
     "evalue": "name 'x' is not defined",
     "output_type": "error",
     "traceback": [
      "\u001b[1;31m---------------------------------------------------------------------------\u001b[0m",
      "\u001b[1;31mNameError\u001b[0m                                 Traceback (most recent call last)",
      "Cell \u001b[1;32mIn[39], line 1\u001b[0m\n\u001b[1;32m----> 1\u001b[0m \u001b[38;5;28mprint\u001b[39m(x)\n",
      "\u001b[1;31mNameError\u001b[0m: name 'x' is not defined"
     ]
    }
   ],
   "source": [
    "print(x)"
   ]
  },
  {
   "cell_type": "code",
   "execution_count": 41,
   "id": "64db196f",
   "metadata": {},
   "outputs": [
    {
     "ename": "TypeError",
     "evalue": "print() missing 1 required positional argument: 'y'",
     "output_type": "error",
     "traceback": [
      "\u001b[1;31m---------------------------------------------------------------------------\u001b[0m",
      "\u001b[1;31mNameError\u001b[0m                                 Traceback (most recent call last)",
      "Cell \u001b[1;32mIn[41], line 2\u001b[0m\n\u001b[0;32m      1\u001b[0m \u001b[38;5;28;01mtry\u001b[39;00m:\n\u001b[1;32m----> 2\u001b[0m     \u001b[38;5;28mprint\u001b[39m(x)\n\u001b[0;32m      3\u001b[0m \u001b[38;5;28;01mexcept\u001b[39;00m:\n",
      "\u001b[1;31mNameError\u001b[0m: name 'x' is not defined",
      "\nDuring handling of the above exception, another exception occurred:\n",
      "\u001b[1;31mTypeError\u001b[0m                                 Traceback (most recent call last)",
      "Cell \u001b[1;32mIn[41], line 4\u001b[0m\n\u001b[0;32m      2\u001b[0m     \u001b[38;5;28mprint\u001b[39m(x)\n\u001b[0;32m      3\u001b[0m \u001b[38;5;28;01mexcept\u001b[39;00m:\n\u001b[1;32m----> 4\u001b[0m     \u001b[38;5;28mprint\u001b[39m(\u001b[38;5;124m'\u001b[39m\u001b[38;5;124merror is handled\u001b[39m\u001b[38;5;124m'\u001b[39m)\n",
      "\u001b[1;31mTypeError\u001b[0m: print() missing 1 required positional argument: 'y'"
     ]
    }
   ],
   "source": [
    "try:\n",
    "    print(x)\n",
    "except:\n",
    "    print('error is handled')"
   ]
  },
  {
   "cell_type": "code",
   "execution_count": 38,
   "id": "a1168be8",
   "metadata": {},
   "outputs": [
    {
     "ename": "TypeError",
     "evalue": "print() missing 1 required positional argument: 'y'",
     "output_type": "error",
     "traceback": [
      "\u001b[1;31m---------------------------------------------------------------------------\u001b[0m",
      "\u001b[1;31mNameError\u001b[0m                                 Traceback (most recent call last)",
      "Cell \u001b[1;32mIn[38], line 2\u001b[0m\n\u001b[0;32m      1\u001b[0m \u001b[38;5;28;01mtry\u001b[39;00m:\n\u001b[1;32m----> 2\u001b[0m     \u001b[38;5;28mprint\u001b[39m(x)\n\u001b[0;32m      3\u001b[0m \u001b[38;5;28;01mexcept\u001b[39;00m \u001b[38;5;167;01mNameError\u001b[39;00m:\n",
      "\u001b[1;31mNameError\u001b[0m: name 'x' is not defined",
      "\nDuring handling of the above exception, another exception occurred:\n",
      "\u001b[1;31mTypeError\u001b[0m                                 Traceback (most recent call last)",
      "Cell \u001b[1;32mIn[38], line 4\u001b[0m\n\u001b[0;32m      2\u001b[0m     \u001b[38;5;28mprint\u001b[39m(x)\n\u001b[0;32m      3\u001b[0m \u001b[38;5;28;01mexcept\u001b[39;00m \u001b[38;5;167;01mNameError\u001b[39;00m:\n\u001b[1;32m----> 4\u001b[0m     \u001b[38;5;28mprint\u001b[39m(\u001b[38;5;124m'\u001b[39m\u001b[38;5;124mnameerror is occured\u001b[39m\u001b[38;5;124m'\u001b[39m)\n",
      "\u001b[1;31mTypeError\u001b[0m: print() missing 1 required positional argument: 'y'"
     ]
    }
   ],
   "source": [
    "try:\n",
    "    print(x)\n",
    "except NameError:\n",
    "    print('nameerror is occured')"
   ]
  },
  {
   "cell_type": "code",
   "execution_count": null,
   "id": "3550127b",
   "metadata": {},
   "outputs": [],
   "source": [
    "t = input().split(',')\n",
    "t"
   ]
  },
  {
   "cell_type": "code",
   "execution_count": 36,
   "id": "c62cf2eb",
   "metadata": {},
   "outputs": [
    {
     "ename": "TypeError",
     "evalue": "print() missing 1 required positional argument: 'y'",
     "output_type": "error",
     "traceback": [
      "\u001b[1;31m---------------------------------------------------------------------------\u001b[0m",
      "\u001b[1;31mTypeError\u001b[0m                                 Traceback (most recent call last)",
      "Cell \u001b[1;32mIn[36], line 4\u001b[0m\n\u001b[0;32m      3\u001b[0m         \u001b[38;5;28;01mpass\u001b[39;00m\n\u001b[1;32m----> 4\u001b[0m     doNothing(\u001b[38;5;241m1\u001b[39m,\u001b[38;5;241m2\u001b[39m,\u001b[38;5;28;01mTrue\u001b[39;00m)\n\u001b[0;32m      5\u001b[0m \u001b[38;5;28;01mexcept\u001b[39;00m \u001b[38;5;167;01mTypeError\u001b[39;00m:\n",
      "\u001b[1;31mTypeError\u001b[0m: doNothing() takes 2 positional arguments but 3 were given",
      "\nDuring handling of the above exception, another exception occurred:\n",
      "\u001b[1;31mTypeError\u001b[0m                                 Traceback (most recent call last)",
      "Cell \u001b[1;32mIn[36], line 6\u001b[0m\n\u001b[0;32m      4\u001b[0m     doNothing(\u001b[38;5;241m1\u001b[39m,\u001b[38;5;241m2\u001b[39m,\u001b[38;5;28;01mTrue\u001b[39;00m)\n\u001b[0;32m      5\u001b[0m \u001b[38;5;28;01mexcept\u001b[39;00m \u001b[38;5;167;01mTypeError\u001b[39;00m:\n\u001b[1;32m----> 6\u001b[0m     \u001b[38;5;28mprint\u001b[39m(\u001b[38;5;124m'\u001b[39m\u001b[38;5;124mFunction print will takes last argument as keyword-argument only\u001b[39m\u001b[38;5;124m'\u001b[39m)\n",
      "\u001b[1;31mTypeError\u001b[0m: print() missing 1 required positional argument: 'y'"
     ]
    }
   ],
   "source": [
    "try:\n",
    "    def doNothing(x, y, *, Having=False):\n",
    "        pass\n",
    "    doNothing(1,2,True)\n",
    "except TypeError:\n",
    "    print('Function print will takes last argument as keyword-argument only')\n",
    "\n"
   ]
  },
  {
   "cell_type": "code",
   "execution_count": 37,
   "id": "145555e5",
   "metadata": {},
   "outputs": [
    {
     "ename": "TypeError",
     "evalue": "print() missing 1 required positional argument: 'y'",
     "output_type": "error",
     "traceback": [
      "\u001b[1;31m---------------------------------------------------------------------------\u001b[0m",
      "\u001b[1;31mTypeError\u001b[0m                                 Traceback (most recent call last)",
      "Cell \u001b[1;32mIn[37], line 4\u001b[0m\n\u001b[0;32m      3\u001b[0m         \u001b[38;5;28;01mpass\u001b[39;00m\n\u001b[1;32m----> 4\u001b[0m     doNothing(\u001b[38;5;241m1\u001b[39m,\u001b[38;5;241m2\u001b[39m,\u001b[38;5;28;01mTrue\u001b[39;00m)\n\u001b[0;32m      6\u001b[0m \u001b[38;5;28;01mexcept\u001b[39;00m:\n",
      "\u001b[1;31mTypeError\u001b[0m: doNothing() takes 2 positional arguments but 3 were given",
      "\nDuring handling of the above exception, another exception occurred:\n",
      "\u001b[1;31mTypeError\u001b[0m                                 Traceback (most recent call last)",
      "Cell \u001b[1;32mIn[37], line 7\u001b[0m\n\u001b[0;32m      4\u001b[0m     doNothing(\u001b[38;5;241m1\u001b[39m,\u001b[38;5;241m2\u001b[39m,\u001b[38;5;28;01mTrue\u001b[39;00m)\n\u001b[0;32m      6\u001b[0m \u001b[38;5;28;01mexcept\u001b[39;00m:\n\u001b[1;32m----> 7\u001b[0m     \u001b[38;5;28mprint\u001b[39m(\u001b[38;5;124m'\u001b[39m\u001b[38;5;124merror occured\u001b[39m\u001b[38;5;124m'\u001b[39m)\n",
      "\u001b[1;31mTypeError\u001b[0m: print() missing 1 required positional argument: 'y'"
     ]
    }
   ],
   "source": [
    "try:\n",
    "    def doNothing(x, y, *, Having=False):\n",
    "        pass\n",
    "    doNothing(1,2,True)\n",
    "\n",
    "except:\n",
    "    print('error occured')"
   ]
  },
  {
   "cell_type": "code",
   "execution_count": null,
   "id": "6a2b2d68",
   "metadata": {},
   "outputs": [],
   "source": []
  }
 ],
 "metadata": {
  "kernelspec": {
   "display_name": "Python 3 (ipykernel)",
   "language": "python",
   "name": "python3"
  },
  "language_info": {
   "codemirror_mode": {
    "name": "ipython",
    "version": 3
   },
   "file_extension": ".py",
   "mimetype": "text/x-python",
   "name": "python",
   "nbconvert_exporter": "python",
   "pygments_lexer": "ipython3",
   "version": "3.11.5"
  }
 },
 "nbformat": 4,
 "nbformat_minor": 5
}
