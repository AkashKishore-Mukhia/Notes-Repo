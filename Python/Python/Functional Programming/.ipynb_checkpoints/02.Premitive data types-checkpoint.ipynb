{
 "cells": [
  {
   "cell_type": "markdown",
   "id": "828aa0bf-643e-49ae-8806-6b40f58e0db3",
   "metadata": {},
   "source": [
    "## Premitive data types\n",
    "\n",
    "List of premitive data types:"
   ]
  },
  {
   "cell_type": "code",
   "execution_count": 2,
   "id": "a484aff3-3f0d-4edc-acc0-c31118723a78",
   "metadata": {},
   "outputs": [
    {
     "data": {
      "text/plain": [
       "(dict, None)"
      ]
     },
     "execution_count": 2,
     "metadata": {},
     "output_type": "execute_result"
    }
   ],
   "source": [
    "int, float, complex\n",
    "bool, str, bytes, bytearray\n",
    "range, list, tuple, set, frozenset\n",
    "dict, None"
   ]
  },
  {
   "cell_type": "markdown",
   "id": "9ba4fcc1-6a5d-464a-a13f-ba317a411c73",
   "metadata": {},
   "source": [
    "Note: In python everything that we use are in form of object."
   ]
  }
 ],
 "metadata": {
  "kernelspec": {
   "display_name": "Python 3 (ipykernel)",
   "language": "python",
   "name": "python3"
  },
  "language_info": {
   "codemirror_mode": {
    "name": "ipython",
    "version": 3
   },
   "file_extension": ".py",
   "mimetype": "text/x-python",
   "name": "python",
   "nbconvert_exporter": "python",
   "pygments_lexer": "ipython3",
   "version": "3.12.9"
  }
 },
 "nbformat": 4,
 "nbformat_minor": 5
}
