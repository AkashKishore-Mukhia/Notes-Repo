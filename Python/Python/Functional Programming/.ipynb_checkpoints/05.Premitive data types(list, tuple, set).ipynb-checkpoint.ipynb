{
 "cells": [
  {
   "cell_type": "markdown",
   "id": "e858d190-f2f6-4057-ab9e-3ff8d2f5ce3d",
   "metadata": {},
   "source": [
    "## Premitive data types(list, tuple, set):"
   ]
  },
  {
   "cell_type": "markdown",
   "id": "b67df6f2-9762-4944-8548-b0699daa2b34",
   "metadata": {},
   "source": [
    "### List:\n",
    "\n",
    "- Collection of object values\n",
    "- insertion order is preserved\n",
    "- heterogeneous values are allowed\n",
    "- Multable\n",
    "- Growable"
   ]
  },
  {
   "cell_type": "code",
   "execution_count": 26,
   "id": "1d39d77d-d5fd-4c42-b4e9-46a178499fe9",
   "metadata": {},
   "outputs": [],
   "source": [
    "# syntax\n",
    "'''\n",
    "identifier = []\n",
    "'''\n",
    "l = []"
   ]
  },
  {
   "cell_type": "markdown",
   "id": "7d1d5cf8-d98b-414b-8cb9-63b51264da37",
   "metadata": {},
   "source": [
    "### Tuple\n",
    "\n",
    "- Immutable\n",
    "- "
   ]
  },
  {
   "cell_type": "markdown",
   "id": "16b2f688-d04c-45c2-9b3b-2326c7e8e25f",
   "metadata": {},
   "source": [
    "### Range\n",
    "\n",
    "Data type represents a sequence of values\n",
    "\n",
    "- Immutable\n",
    "\n",
    "**Forms of declarating range**"
   ]
  },
  {
   "cell_type": "code",
   "execution_count": 33,
   "id": "b0f29049-9323-4b41-a226-563753dad56c",
   "metadata": {},
   "outputs": [
    {
     "name": "stdout",
     "output_type": "stream",
     "text": [
      "<class 'range'>\n"
     ]
    },
    {
     "data": {
      "text/plain": [
       "range(0, 10)"
      ]
     },
     "execution_count": 33,
     "metadata": {},
     "output_type": "execute_result"
    }
   ],
   "source": [
    "# 1\n",
    "r = range(10)\n",
    "print(type(r))\n",
    "r"
   ]
  },
  {
   "cell_type": "code",
   "execution_count": 34,
   "id": "94a28f5a-8e42-4894-b7ad-ba6c20de8aba",
   "metadata": {},
   "outputs": [
    {
     "name": "stdout",
     "output_type": "stream",
     "text": [
      "0\n",
      "1\n",
      "2\n",
      "3\n",
      "4\n",
      "5\n",
      "6\n",
      "7\n",
      "8\n",
      "9\n"
     ]
    }
   ],
   "source": [
    "for i in r: print(i)"
   ]
  },
  {
   "cell_type": "code",
   "execution_count": 35,
   "id": "abe82fb6-dfad-4d9a-9323-4fc2557e704f",
   "metadata": {},
   "outputs": [
    {
     "name": "stdout",
     "output_type": "stream",
     "text": [
      "3\n"
     ]
    },
    {
     "data": {
      "text/plain": [
       "range(0, 3)"
      ]
     },
     "execution_count": 35,
     "metadata": {},
     "output_type": "execute_result"
    }
   ],
   "source": [
    "# we can use the indexing and slicing \n",
    "print(r[3])\n",
    "r[0:3]"
   ]
  },
  {
   "cell_type": "code",
   "execution_count": 36,
   "id": "c416ab54-f3a8-42ca-bd67-e51d1c2c4ac8",
   "metadata": {},
   "outputs": [
    {
     "data": {
      "text/plain": [
       "range(0, 99, 2)"
      ]
     },
     "execution_count": 36,
     "metadata": {},
     "output_type": "execute_result"
    }
   ],
   "source": [
    "# 2\n",
    "r = range(0, 99, 2)\n",
    "r"
   ]
  },
  {
   "cell_type": "code",
   "execution_count": 37,
   "id": "3deee468-2407-415a-87a5-ac9fcc89a876",
   "metadata": {},
   "outputs": [
    {
     "name": "stdout",
     "output_type": "stream",
     "text": [
      "0\n",
      "2\n",
      "4\n",
      "6\n",
      "8\n",
      "10\n",
      "12\n",
      "14\n",
      "16\n",
      "18\n",
      "20\n",
      "22\n",
      "24\n",
      "26\n",
      "28\n",
      "30\n",
      "32\n",
      "34\n",
      "36\n",
      "38\n",
      "40\n",
      "42\n",
      "44\n",
      "46\n",
      "48\n",
      "50\n",
      "52\n",
      "54\n",
      "56\n",
      "58\n",
      "60\n",
      "62\n",
      "64\n",
      "66\n",
      "68\n",
      "70\n",
      "72\n",
      "74\n",
      "76\n",
      "78\n",
      "80\n",
      "82\n",
      "84\n",
      "86\n",
      "88\n",
      "90\n",
      "92\n",
      "94\n",
      "96\n",
      "98\n"
     ]
    }
   ],
   "source": [
    "for i in r: print(i)"
   ]
  },
  {
   "cell_type": "markdown",
   "id": "be15af78-e964-4e3f-855b-45ca4db50fb6",
   "metadata": {},
   "source": [
    "### Set:\n",
    "\n",
    "- insertion order is not preserved\n",
    "- duplicated are not allowed\n",
    "- heterogeneous obj are allowed\n",
    "- Growable"
   ]
  },
  {
   "cell_type": "code",
   "execution_count": 39,
   "id": "ca124b26-1a6f-4fd3-8039-6d6d3545a8a2",
   "metadata": {},
   "outputs": [
    {
     "name": "stdout",
     "output_type": "stream",
     "text": [
      "<class 'dict'>\n"
     ]
    },
    {
     "data": {
      "text/plain": [
       "set"
      ]
     },
     "execution_count": 39,
     "metadata": {},
     "output_type": "execute_result"
    }
   ],
   "source": [
    "# syntax\n",
    "'''\n",
    "identifier = {<atleast-one obj>}\n",
    "'''\n",
    "s = {}\n",
    "print(type(s))\n",
    "s = {10}\n",
    "type(s)"
   ]
  },
  {
   "cell_type": "markdown",
   "id": "ef720b8a-e5d3-4145-8c4b-7c85e0258d63",
   "metadata": {},
   "source": [
    "### Frozenset\n",
    "\n",
    "similar to set but,\n",
    "\n",
    "- Immutable\n",
    "- Not growable"
   ]
  },
  {
   "cell_type": "code",
   "execution_count": 40,
   "id": "dcfd7dba-5499-4ec3-8c79-fe2a91326aa0",
   "metadata": {},
   "outputs": [
    {
     "name": "stdout",
     "output_type": "stream",
     "text": [
      "<class 'frozenset'>\n"
     ]
    },
    {
     "data": {
      "text/plain": [
       "frozenset({10, 20, 30})"
      ]
     },
     "execution_count": 40,
     "metadata": {},
     "output_type": "execute_result"
    }
   ],
   "source": [
    "# syntax\n",
    "'''\n",
    "identifier = frozenset({<atleast-one obj>})\n",
    "'''\n",
    "fs = frozenset({10, 20, 10, 30})\n",
    "print(type(fs))\n",
    "fs"
   ]
  },
  {
   "cell_type": "code",
   "execution_count": 41,
   "id": "0dadcaf9-d964-4b2f-9f4a-deda88d3a687",
   "metadata": {},
   "outputs": [
    {
     "ename": "TypeError",
     "evalue": "'frozenset' object does not support item assignment",
     "output_type": "error",
     "traceback": [
      "\u001b[31m---------------------------------------------------------------------------\u001b[39m",
      "\u001b[31mTypeError\u001b[39m                                 Traceback (most recent call last)",
      "\u001b[36mCell\u001b[39m\u001b[36m \u001b[39m\u001b[32mIn[41]\u001b[39m\u001b[32m, line 1\u001b[39m\n\u001b[32m----> \u001b[39m\u001b[32m1\u001b[39m fs[\u001b[32m0\u001b[39m] = \u001b[32m2\u001b[39m\n",
      "\u001b[31mTypeError\u001b[39m: 'frozenset' object does not support item assignment"
     ]
    }
   ],
   "source": [
    "# immutable\n",
    "fs[0] = 2"
   ]
  },
  {
   "cell_type": "code",
   "execution_count": 43,
   "id": "1f92c8eb-6acc-4411-8fb6-f8c63611dad9",
   "metadata": {},
   "outputs": [
    {
     "ename": "AttributeError",
     "evalue": "'frozenset' object has no attribute 'add'",
     "output_type": "error",
     "traceback": [
      "\u001b[31m---------------------------------------------------------------------------\u001b[39m",
      "\u001b[31mAttributeError\u001b[39m                            Traceback (most recent call last)",
      "\u001b[36mCell\u001b[39m\u001b[36m \u001b[39m\u001b[32mIn[43]\u001b[39m\u001b[32m, line 2\u001b[39m\n\u001b[32m      1\u001b[39m \u001b[38;5;66;03m# not growable\u001b[39;00m\n\u001b[32m----> \u001b[39m\u001b[32m2\u001b[39m fs.add(\u001b[32m40\u001b[39m)\n",
      "\u001b[31mAttributeError\u001b[39m: 'frozenset' object has no attribute 'add'"
     ]
    }
   ],
   "source": [
    "# not growable\n",
    "fs.add(40)"
   ]
  },
  {
   "cell_type": "markdown",
   "id": "1344e39d-ecb6-4bc3-9b4b-c565a916e0b4",
   "metadata": {},
   "source": [
    "### Dict:\n",
    "\n",
    "Key-value pair of objects or (mapping of two objects)\n",
    "\n",
    "- key and value can be any type of fundamental data type obj.\n",
    "- but key must be unique\n",
    "- assignment is allowed"
   ]
  },
  {
   "cell_type": "code",
   "execution_count": 54,
   "id": "1bbcf5fc-b7ce-43d5-99a5-576ff785ffd4",
   "metadata": {},
   "outputs": [
    {
     "data": {
      "text/plain": [
       "{'akash': [2], 'age': 24}"
      ]
     },
     "execution_count": 54,
     "metadata": {},
     "output_type": "execute_result"
    }
   ],
   "source": [
    "# syntax\n",
    "'''\n",
    "identifier = {<key> : <value>, ...}\n",
    "'''\n",
    "d = {'akash' : [2], 'age' : 24}\n",
    "d"
   ]
  },
  {
   "cell_type": "code",
   "execution_count": null,
   "id": "1381810a-c3c6-405f-a2bb-e9bdf9129249",
   "metadata": {},
   "outputs": [],
   "source": []
  }
 ],
 "metadata": {
  "kernelspec": {
   "display_name": "Python 3 (ipykernel)",
   "language": "python",
   "name": "python3"
  },
  "language_info": {
   "codemirror_mode": {
    "name": "ipython",
    "version": 3
   },
   "file_extension": ".py",
   "mimetype": "text/x-python",
   "name": "python",
   "nbconvert_exporter": "python",
   "pygments_lexer": "ipython3",
   "version": "3.12.9"
  }
 },
 "nbformat": 4,
 "nbformat_minor": 5
}
