{
 "cells": [
  {
   "cell_type": "markdown",
   "id": "0cefcd72-8a4e-4074-b367-40f4204b3bd6",
   "metadata": {},
   "source": [
    "## Premitive data types(int, float, complex)"
   ]
  },
  {
   "cell_type": "markdown",
   "id": "c2e46a65-e6be-4606-9709-150f92de0380",
   "metadata": {},
   "source": [
    "### Int\n",
    "\n",
    "holds integer values.\n",
    "\n",
    "we have four way to represent integer values shown below."
   ]
  },
  {
   "cell_type": "code",
   "execution_count": 1,
   "id": "476668d1-743e-4ba8-82ac-7a83ff0fc247",
   "metadata": {},
   "outputs": [
    {
     "name": "stdout",
     "output_type": "stream",
     "text": [
      "123\n",
      "1111\n"
     ]
    }
   ],
   "source": [
    "# 1. Decimal(Base 10, digits 0-9)\n",
    "a = 123\n",
    "print(a)\n",
    "a = 1111\n",
    "print(a)\n",
    "# below line will cause an error\n",
    "# a = 123A\n",
    "# print(a)"
   ]
  },
  {
   "cell_type": "code",
   "execution_count": 2,
   "id": "5ad2bd83-85e9-420e-9e70-7a2b8342150e",
   "metadata": {},
   "outputs": [
    {
     "name": "stdout",
     "output_type": "stream",
     "text": [
      "7\n"
     ]
    }
   ],
   "source": [
    "# 2. Bianry(Base 2, digits 0-1)\n",
    "# below line will cause an error\n",
    "# a = 0b123\n",
    "# print(a)\n",
    "a = 0B111\n",
    "print(a)"
   ]
  },
  {
   "cell_type": "code",
   "execution_count": 3,
   "id": "7bd125a6-c997-4759-94ab-50200e36c576",
   "metadata": {},
   "outputs": [
    {
     "name": "stdout",
     "output_type": "stream",
     "text": [
      "511\n"
     ]
    }
   ],
   "source": [
    "# 3. Octal(Base 8, digits 0-8)\n",
    "# below line will cause an error\n",
    "# a = 0o7778\n",
    "# print(a)\n",
    "a = 0o777\n",
    "print(a)"
   ]
  },
  {
   "cell_type": "code",
   "execution_count": 4,
   "id": "af92f1bf-4c78-493b-80ee-c6e80e29b24b",
   "metadata": {},
   "outputs": [
    {
     "name": "stdout",
     "output_type": "stream",
     "text": [
      "10\n",
      "10\n"
     ]
    }
   ],
   "source": [
    "# 4. HexaDecimal(Base 16, digits 0-9, a-f)\n",
    "a = 0xa\n",
    "print(a)\n",
    "a = 0xA\n",
    "print(a)"
   ]
  },
  {
   "cell_type": "markdown",
   "id": "fa31d006-f199-4a63-b9f1-83999c761d83",
   "metadata": {},
   "source": [
    "#### inbuild functions for int base conversion:\n",
    "\n",
    "`bin()`\n",
    "`oct()`\n",
    "`hex()`"
   ]
  },
  {
   "cell_type": "markdown",
   "id": "b2e2c632-3cc8-4cac-a7b6-ee5b832b757e",
   "metadata": {},
   "source": [
    "### Float\n",
    "hold floating point values.\n",
    "For floating point number representation we can only use decimal values."
   ]
  },
  {
   "cell_type": "code",
   "execution_count": 6,
   "id": "c2523c4e-c420-4746-a748-10a544fc292e",
   "metadata": {},
   "outputs": [
    {
     "data": {
      "text/plain": [
       "float"
      ]
     },
     "execution_count": 6,
     "metadata": {},
     "output_type": "execute_result"
    }
   ],
   "source": [
    "f = 100.123\n",
    "type(f)"
   ]
  },
  {
   "cell_type": "markdown",
   "id": "b6cf5643-d86e-4363-b1ad-b2e34f0808c3",
   "metadata": {},
   "source": [
    "### Complex:\n",
    "pass for now"
   ]
  },
  {
   "cell_type": "code",
   "execution_count": null,
   "id": "ccbccb8f-16b9-4243-8934-05ce71bd4ca5",
   "metadata": {},
   "outputs": [],
   "source": []
  }
 ],
 "metadata": {
  "kernelspec": {
   "display_name": "Python 3 (ipykernel)",
   "language": "python",
   "name": "python3"
  },
  "language_info": {
   "codemirror_mode": {
    "name": "ipython",
    "version": 3
   },
   "file_extension": ".py",
   "mimetype": "text/x-python",
   "name": "python",
   "nbconvert_exporter": "python",
   "pygments_lexer": "ipython3",
   "version": "3.12.9"
  }
 },
 "nbformat": 4,
 "nbformat_minor": 5
}
