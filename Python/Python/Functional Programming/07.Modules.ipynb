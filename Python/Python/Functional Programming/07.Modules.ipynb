{
  "metadata": {
    "kernelspec": {
      "name": "python",
      "display_name": "Python (Pyodide)",
      "language": "python"
    },
    "language_info": {
      "codemirror_mode": {
        "name": "python",
        "version": 3
      },
      "file_extension": ".py",
      "mimetype": "text/x-python",
      "name": "python",
      "nbconvert_exporter": "python",
      "pygments_lexer": "ipython3",
      "version": "3.8"
    }
  },
  "nbformat_minor": 5,
  "nbformat": 4,
  "cells": [
    {
      "id": "7ba71df4-4bc8-499c-b8b4-59f3cded06d1",
      "cell_type": "markdown",
      "source": "## Module:\n\nA group of function, variables, classes, etc... is called a module.\n\nEvery python file is act as a module.\n\nWe can use the module using the `import` keyword.",
      "metadata": {}
    },
    {
      "id": "6ef4d2b0-f0bc-4337-ae6c-25d9ea0a474b",
      "cell_type": "code",
      "source": "import math\nmath.sqrt(4)",
      "metadata": {
        "trusted": true
      },
      "outputs": [
        {
          "execution_count": 2,
          "output_type": "execute_result",
          "data": {
            "text/plain": "2.0"
          },
          "metadata": {}
        }
      ],
      "execution_count": 2
    },
    {
      "id": "1b4ac733-a017-4620-adf8-c5ddd92bf8fa",
      "cell_type": "markdown",
      "source": "`Note:` we can use any alias name for modules and libraries using the `as` keyword.",
      "metadata": {}
    },
    {
      "id": "ae22cc69-fe10-4bfe-8401-b2089364be42",
      "cell_type": "code",
      "source": "import math as m\nm.sqrt(4)",
      "metadata": {
        "trusted": true
      },
      "outputs": [
        {
          "execution_count": 3,
          "output_type": "execute_result",
          "data": {
            "text/plain": "2.0"
          },
          "metadata": {}
        }
      ],
      "execution_count": 3
    },
    {
      "id": "0a85c2ec-75e5-49e5-a658-ad292787ba23",
      "cell_type": "markdown",
      "source": "### Module naming conflict:\n\nIf two module has same functions, then in python the function in the most recent module will be considered.",
      "metadata": {}
    },
    {
      "id": "1a8c8d5b-f74c-422b-a23c-609378908fbc",
      "cell_type": "markdown",
      "source": "`Note:` we can use the `dir()` function to list down all the members of a module.",
      "metadata": {}
    },
    {
      "id": "b1ec96df-259f-410e-85ca-4d800337aeb0",
      "cell_type": "code",
      "source": "m.__doc__",
      "metadata": {
        "trusted": true
      },
      "outputs": [
        {
          "execution_count": 4,
          "output_type": "execute_result",
          "data": {
            "text/plain": "'This module provides access to the mathematical functions\\ndefined by the C standard.'"
          },
          "metadata": {}
        }
      ],
      "execution_count": 4
    },
    {
      "id": "194c6c86-86c4-4af7-a4ad-44a7266bedd8",
      "cell_type": "markdown",
      "source": "### Special Varibale \\_\\_name\\_\\_:\n\nIn python module one of the special variable is `__name__`.\n\nThe value of this variable changes based on the below scenario:\n- Direct execution of the module -> \\_\\_name\\_\\_ = '__main__'\n- Indirect execution(ex:import module) of the module -> \\_\\_name\\_\\_ = \\<module name\\>",
      "metadata": {}
    },
    {
      "id": "c39ec38e-e789-45e9-ba04-4412b0e1a82a",
      "cell_type": "markdown",
      "source": "`Note:` Whenever `import` statement is encountered it executed the module itself.",
      "metadata": {}
    },
    {
      "id": "2bf34adc-0a17-43a1-b97d-1f50a4b1a2f7",
      "cell_type": "code",
      "source": "",
      "metadata": {
        "trusted": true
      },
      "outputs": [],
      "execution_count": null
    }
  ]
}