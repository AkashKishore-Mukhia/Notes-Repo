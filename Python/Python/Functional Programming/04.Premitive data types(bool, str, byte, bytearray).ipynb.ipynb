{
 "cells": [
  {
   "cell_type": "markdown",
   "id": "8a8ae628-5c49-4bd3-8c86-3b36f8405624",
   "metadata": {},
   "source": [
    "## Premitive data types(bool, str, byte, bytearray)"
   ]
  },
  {
   "cell_type": "markdown",
   "id": "4659ceba-b51e-4edc-b08f-4fb2920e8cd5",
   "metadata": {},
   "source": [
    "### bool\n",
    "\n",
    "only two values `True`, `False`"
   ]
  },
  {
   "cell_type": "code",
   "execution_count": 1,
   "id": "dbb0c29f-2791-4a26-a365-14d37309c3d2",
   "metadata": {},
   "outputs": [
    {
     "data": {
      "text/plain": [
       "True"
      ]
     },
     "execution_count": 1,
     "metadata": {},
     "output_type": "execute_result"
    }
   ],
   "source": [
    "b = True\n",
    "b"
   ]
  },
  {
   "cell_type": "markdown",
   "id": "8f0e7cfd-3563-4ac8-b90b-98c14847b66d",
   "metadata": {},
   "source": [
    "### Str:\n",
    "\n",
    "We represent string as `'str'`, `\"str\"`, `'''str'''`\n",
    "\n",
    "`'''` we use to represent multiline string"
   ]
  },
  {
   "cell_type": "markdown",
   "id": "177c0372-80fb-4c06-a688-a5161a65ad9d",
   "metadata": {},
   "source": [
    "### String slicing syntax:\n",
    "`variable(string)[<starting-index> : <ending-inedx> : <steps>]` \n",
    "\n",
    "`Note`: `<ending-index>` is exclusive, and in python negetive index is also their."
   ]
  },
  {
   "cell_type": "code",
   "execution_count": null,
   "id": "18fe641d-fd3d-442f-a18f-245eddfa305a",
   "metadata": {},
   "outputs": [],
   "source": []
  }
 ],
 "metadata": {
  "kernelspec": {
   "display_name": "Python 3 (ipykernel)",
   "language": "python",
   "name": "python3"
  },
  "language_info": {
   "codemirror_mode": {
    "name": "ipython",
    "version": 3
   },
   "file_extension": ".py",
   "mimetype": "text/x-python",
   "name": "python",
   "nbconvert_exporter": "python",
   "pygments_lexer": "ipython3",
   "version": "3.12.9"
  }
 },
 "nbformat": 4,
 "nbformat_minor": 5
}
