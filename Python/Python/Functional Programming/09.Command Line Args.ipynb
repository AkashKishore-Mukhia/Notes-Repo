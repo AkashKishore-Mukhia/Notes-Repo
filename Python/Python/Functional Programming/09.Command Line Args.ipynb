{
  "metadata": {
    "kernelspec": {
      "name": "python",
      "display_name": "Python (Pyodide)",
      "language": "python"
    },
    "language_info": {
      "codemirror_mode": {
        "name": "python",
        "version": 3
      },
      "file_extension": ".py",
      "mimetype": "text/x-python",
      "name": "python",
      "nbconvert_exporter": "python",
      "pygments_lexer": "ipython3",
      "version": "3.8"
    }
  },
  "nbformat_minor": 5,
  "nbformat": 4,
  "cells": [
    {
      "id": "b6d44ebc-4d07-4b9a-b927-5e597f3b054e",
      "cell_type": "markdown",
      "source": "## Command Line Args:\n\nUsed to get command line values passed at the time of running.",
      "metadata": {}
    },
    {
      "id": "37b9cf31-f30f-42d5-8fff-912c8979af59",
      "cell_type": "code",
      "source": "import sys\nsys.argv",
      "metadata": {
        "trusted": true
      },
      "outputs": [
        {
          "execution_count": 3,
          "output_type": "execute_result",
          "data": {
            "text/plain": "['']"
          },
          "metadata": {}
        }
      ],
      "execution_count": 3
    },
    {
      "id": "ff4e2d61-cebe-4354-bf1c-3b084eb3047d",
      "cell_type": "code",
      "source": "",
      "metadata": {
        "trusted": true
      },
      "outputs": [],
      "execution_count": null
    }
  ]
}