{
  "metadata": {
    "kernelspec": {
      "name": "python",
      "display_name": "Python (Pyodide)",
      "language": "python"
    },
    "language_info": {
      "codemirror_mode": {
        "name": "python",
        "version": 3
      },
      "file_extension": ".py",
      "mimetype": "text/x-python",
      "name": "python",
      "nbconvert_exporter": "python",
      "pygments_lexer": "ipython3",
      "version": "3.8"
    }
  },
  "nbformat_minor": 5,
  "nbformat": 4,
  "cells": [
    {
      "id": "e858d190-f2f6-4057-ab9e-3ff8d2f5ce3d",
      "cell_type": "markdown",
      "source": "## Premitive data types(list, tuple, set):",
      "metadata": {}
    },
    {
      "id": "b67df6f2-9762-4944-8548-b0699daa2b34",
      "cell_type": "markdown",
      "source": "### List:\n\n- Collection of object values\n- insertion order is preserved\n- heterogeneous values are allowed\n- Multable\n- Growable",
      "metadata": {}
    },
    {
      "id": "1d39d77d-d5fd-4c42-b4e9-46a178499fe9",
      "cell_type": "code",
      "source": "# syntax\n'''\nidentifier = []\n'''\nl = []",
      "metadata": {},
      "outputs": [],
      "execution_count": 26
    },
    {
      "id": "7d1d5cf8-d98b-414b-8cb9-63b51264da37",
      "cell_type": "markdown",
      "source": "### Tuple\n- Tuple is exactly same as list, except it's immutable. i.e one we creates tuple object we cannot perform any changes in that object.\n- Hence tuple is read only version of list.",
      "metadata": {}
    },
    {
      "id": "5ceab6ef-867a-4de9-8271-90e8c0a8876a",
      "cell_type": "code",
      "source": "# syntax\n'''\nidentifier = ()\n'''\nt = ()\ntype(t)",
      "metadata": {
        "trusted": true
      },
      "outputs": [
        {
          "execution_count": 2,
          "output_type": "execute_result",
          "data": {
            "text/plain": "tuple"
          },
          "metadata": {}
        }
      ],
      "execution_count": 2
    },
    {
      "id": "04b1208a-f0ba-45cd-bf59-6ef13e7158a1",
      "cell_type": "code",
      "source": "# if we are using with atleast one value, mandetorily we have to use comma after the value. otherwise it will be consider as int.\nt = (10)\nprint(type(t))\nt = (1,)\nprint(t)\ntype(t)",
      "metadata": {
        "trusted": true
      },
      "outputs": [
        {
          "name": "stdout",
          "output_type": "stream",
          "text": "<class 'int'>\n(1,)\n"
        },
        {
          "execution_count": 8,
          "output_type": "execute_result",
          "data": {
            "text/plain": "tuple"
          },
          "metadata": {}
        }
      ],
      "execution_count": 8
    },
    {
      "id": "65b237c1-5be5-4935-851c-d37d1fcc8d9f",
      "cell_type": "markdown",
      "source": "#### Tuple Comprehension:\n- Tuple comprehension is not supported by python\n- If we try to do it we'll not get the tuple objects, but python generator object.",
      "metadata": {}
    },
    {
      "id": "19c7a543-6aa6-4c07-b412-317080ed2f2f",
      "cell_type": "code",
      "source": "t = (x**2 for x in range(0, 6))\nprint(type(t))\nt = eval('10,20,30,40')\nprint(type(t))",
      "metadata": {
        "trusted": true
      },
      "outputs": [
        {
          "name": "stdout",
          "output_type": "stream",
          "text": "<class 'generator'>\n<class 'tuple'>\n"
        }
      ],
      "execution_count": 19
    },
    {
      "id": "16b2f688-d04c-45c2-9b3b-2326c7e8e25f",
      "cell_type": "markdown",
      "source": "### Range\n\nData type represents a sequence of values\n\n- Immutable\n\n**Forms of declarating range**",
      "metadata": {}
    },
    {
      "id": "b0f29049-9323-4b41-a226-563753dad56c",
      "cell_type": "code",
      "source": "# 1\nr = range(10)\nprint(type(r))\nr",
      "metadata": {},
      "outputs": [
        {
          "name": "stdout",
          "output_type": "stream",
          "text": "<class 'range'>\n"
        },
        {
          "data": {
            "text/plain": [
              "range(0, 10)"
            ]
          },
          "execution_count": 33,
          "metadata": {},
          "output_type": "execute_result"
        }
      ],
      "execution_count": 33
    },
    {
      "id": "94a28f5a-8e42-4894-b7ad-ba6c20de8aba",
      "cell_type": "code",
      "source": "for i in r: print(i)",
      "metadata": {},
      "outputs": [
        {
          "name": "stdout",
          "output_type": "stream",
          "text": "0\n,1\n,2\n,3\n,4\n,5\n,6\n,7\n,8\n,9\n"
        }
      ],
      "execution_count": 34
    },
    {
      "id": "abe82fb6-dfad-4d9a-9323-4fc2557e704f",
      "cell_type": "code",
      "source": "# we can use the indexing and slicing \nprint(r[3])\nr[0:3]",
      "metadata": {},
      "outputs": [
        {
          "name": "stdout",
          "output_type": "stream",
          "text": "3\n"
        },
        {
          "data": {
            "text/plain": [
              "range(0, 3)"
            ]
          },
          "execution_count": 35,
          "metadata": {},
          "output_type": "execute_result"
        }
      ],
      "execution_count": 35
    },
    {
      "id": "c416ab54-f3a8-42ca-bd67-e51d1c2c4ac8",
      "cell_type": "code",
      "source": "# 2\nr = range(0, 99, 2)\nr",
      "metadata": {},
      "outputs": [
        {
          "data": {
            "text/plain": [
              "range(0, 99, 2)"
            ]
          },
          "execution_count": 36,
          "metadata": {},
          "output_type": "execute_result"
        }
      ],
      "execution_count": 36
    },
    {
      "id": "3deee468-2407-415a-87a5-ac9fcc89a876",
      "cell_type": "code",
      "source": "for i in r: print(i)",
      "metadata": {},
      "outputs": [
        {
          "name": "stdout",
          "output_type": "stream",
          "text": "0\n,2\n,4\n,6\n,8\n,10\n,12\n,14\n,16\n,18\n,20\n,22\n,24\n,26\n,28\n,30\n,32\n,34\n,36\n,38\n,40\n,42\n,44\n,46\n,48\n,50\n,52\n,54\n,56\n,58\n,60\n,62\n,64\n,66\n,68\n,70\n,72\n,74\n,76\n,78\n,80\n,82\n,84\n,86\n,88\n,90\n,92\n,94\n,96\n,98\n"
        }
      ],
      "execution_count": 37
    },
    {
      "id": "be15af78-e964-4e3f-855b-45ca4db50fb6",
      "cell_type": "markdown",
      "source": "### Set:\n\n- insertion order is not preserved\n- duplicated are not allowed\n- heterogeneous obj are allowed\n- Growable",
      "metadata": {}
    },
    {
      "id": "ca124b26-1a6f-4fd3-8039-6d6d3545a8a2",
      "cell_type": "code",
      "source": "# syntax\n'''\nidentifier = {<atleast-one obj>}\n'''\ns = {}\nprint(type(s))\ns = {10}\ntype(s)",
      "metadata": {},
      "outputs": [
        {
          "name": "stdout",
          "output_type": "stream",
          "text": "<class 'dict'>\n"
        },
        {
          "data": {
            "text/plain": [
              "set"
            ]
          },
          "execution_count": 39,
          "metadata": {},
          "output_type": "execute_result"
        }
      ],
      "execution_count": 39
    },
    {
      "id": "ef720b8a-e5d3-4145-8c4b-7c85e0258d63",
      "cell_type": "markdown",
      "source": "### Frozenset\n\nsimilar to set but,\n\n- Immutable\n- Not growable",
      "metadata": {}
    },
    {
      "id": "dcfd7dba-5499-4ec3-8c79-fe2a91326aa0",
      "cell_type": "code",
      "source": "# syntax\n'''\nidentifier = frozenset({<atleast-one obj>})\n'''\nfs = frozenset({10, 20, 10, 30})\nprint(type(fs))\nfs",
      "metadata": {},
      "outputs": [
        {
          "name": "stdout",
          "output_type": "stream",
          "text": "<class 'frozenset'>\n"
        },
        {
          "data": {
            "text/plain": [
              "frozenset({10, 20, 30})"
            ]
          },
          "execution_count": 40,
          "metadata": {},
          "output_type": "execute_result"
        }
      ],
      "execution_count": 40
    },
    {
      "id": "0dadcaf9-d964-4b2f-9f4a-deda88d3a687",
      "cell_type": "code",
      "source": "# immutable\nfs[0] = 2",
      "metadata": {},
      "outputs": [
        {
          "ename": "TypeError",
          "evalue": "'frozenset' object does not support item assignment",
          "output_type": "error",
          "traceback": [
            "\u001b[31m---------------------------------------------------------------------------\u001b[39m",
            "\u001b[31mTypeError\u001b[39m                                 Traceback (most recent call last)",
            "\u001b[36mCell\u001b[39m\u001b[36m \u001b[39m\u001b[32mIn[41]\u001b[39m\u001b[32m, line 1\u001b[39m\n\u001b[32m----> \u001b[39m\u001b[32m1\u001b[39m fs[\u001b[32m0\u001b[39m] = \u001b[32m2\u001b[39m\n",
            "\u001b[31mTypeError\u001b[39m: 'frozenset' object does not support item assignment"
          ]
        }
      ],
      "execution_count": 41
    },
    {
      "id": "1f92c8eb-6acc-4411-8fb6-f8c63611dad9",
      "cell_type": "code",
      "source": "# not growable\nfs.add(40)",
      "metadata": {},
      "outputs": [
        {
          "ename": "AttributeError",
          "evalue": "'frozenset' object has no attribute 'add'",
          "output_type": "error",
          "traceback": [
            "\u001b[31m---------------------------------------------------------------------------\u001b[39m",
            "\u001b[31mAttributeError\u001b[39m                            Traceback (most recent call last)",
            "\u001b[36mCell\u001b[39m\u001b[36m \u001b[39m\u001b[32mIn[43]\u001b[39m\u001b[32m, line 2\u001b[39m\n\u001b[32m      1\u001b[39m \u001b[38;5;66;03m# not growable\u001b[39;00m\n\u001b[32m----> \u001b[39m\u001b[32m2\u001b[39m fs.add(\u001b[32m40\u001b[39m)\n",
            "\u001b[31mAttributeError\u001b[39m: 'frozenset' object has no attribute 'add'"
          ]
        }
      ],
      "execution_count": 43
    },
    {
      "id": "1344e39d-ecb6-4bc3-9b4b-c565a916e0b4",
      "cell_type": "markdown",
      "source": "### Dict:\n\nKey-value pair of objects or (mapping of two objects)\n\n- key and value can be any type of fundamental data type obj.\n- but key must be unique\n- assignment is allowed",
      "metadata": {}
    },
    {
      "id": "1bbcf5fc-b7ce-43d5-99a5-576ff785ffd4",
      "cell_type": "code",
      "source": "# syntax\n'''\nidentifier = {<key> : <value>, ...}\n'''\nd = {'akash' : [2], 'age' : 24}\nd",
      "metadata": {},
      "outputs": [
        {
          "data": {
            "text/plain": [
              "{'akash': [2], 'age': 24}"
            ]
          },
          "execution_count": 54,
          "metadata": {},
          "output_type": "execute_result"
        }
      ],
      "execution_count": 54
    },
    {
      "id": "1381810a-c3c6-405f-a2bb-e9bdf9129249",
      "cell_type": "code",
      "source": "",
      "metadata": {},
      "outputs": [],
      "execution_count": null
    }
  ]
}