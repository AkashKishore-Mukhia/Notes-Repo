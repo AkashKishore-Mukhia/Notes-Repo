{
 "cells": [
  {
   "cell_type": "markdown",
   "id": "00888980",
   "metadata": {},
   "source": [
    "## Files in python"
   ]
  },
  {
   "cell_type": "raw",
   "id": "99949825",
   "metadata": {},
   "source": [
    "A string is a sequence of character.\n",
    "A file is a sequence of bytes"
   ]
  },
  {
   "cell_type": "raw",
   "id": "b69af9ed",
   "metadata": {},
   "source": [
    "note:\n",
    "So if you read a “text file” from disk, how does Python convert that sequence of bytes into a sequence of characters? It decodes the bytes according to a specific character encoding algorithm and returns a sequence of Unicode characters"
   ]
  },
  {
   "cell_type": "code",
   "execution_count": 7,
   "id": "fee13591",
   "metadata": {},
   "outputs": [
    {
     "data": {
      "text/plain": [
       "'cp1252'"
      ]
     },
     "execution_count": 7,
     "metadata": {},
     "output_type": "execute_result"
    }
   ],
   "source": [
    "import locale\n",
    "# getting the default-enconding\n",
    "locale.getpreferredencoding()"
   ]
  },
  {
   "cell_type": "code",
   "execution_count": 12,
   "id": "bbcacdc1",
   "metadata": {},
   "outputs": [
    {
     "ename": "UnicodeDecodeError",
     "evalue": "'charmap' codec can't decode byte 0x8d in position 28: character maps to <undefined>",
     "output_type": "error",
     "traceback": [
      "\u001b[1;31m---------------------------------------------------------------------------\u001b[0m",
      "\u001b[1;31mUnicodeDecodeError\u001b[0m                        Traceback (most recent call last)",
      "Cell \u001b[1;32mIn[12], line 2\u001b[0m\n\u001b[0;32m      1\u001b[0m file \u001b[38;5;241m=\u001b[39m \u001b[38;5;28mopen\u001b[39m(\u001b[38;5;124m'\u001b[39m\u001b[38;5;124m./data.txt\u001b[39m\u001b[38;5;124m'\u001b[39m)\n\u001b[1;32m----> 2\u001b[0m string \u001b[38;5;241m=\u001b[39m file\u001b[38;5;241m.\u001b[39mread()\n\u001b[0;32m      3\u001b[0m string\n",
      "File \u001b[1;32mC:\\ProgramData\\anaconda3\\Lib\\encodings\\cp1252.py:23\u001b[0m, in \u001b[0;36mIncrementalDecoder.decode\u001b[1;34m(self, input, final)\u001b[0m\n\u001b[0;32m     22\u001b[0m \u001b[38;5;28;01mdef\u001b[39;00m \u001b[38;5;21mdecode\u001b[39m(\u001b[38;5;28mself\u001b[39m, \u001b[38;5;28minput\u001b[39m, final\u001b[38;5;241m=\u001b[39m\u001b[38;5;28;01mFalse\u001b[39;00m):\n\u001b[1;32m---> 23\u001b[0m     \u001b[38;5;28;01mreturn\u001b[39;00m codecs\u001b[38;5;241m.\u001b[39mcharmap_decode(\u001b[38;5;28minput\u001b[39m,\u001b[38;5;28mself\u001b[39m\u001b[38;5;241m.\u001b[39merrors,decoding_table)[\u001b[38;5;241m0\u001b[39m]\n",
      "\u001b[1;31mUnicodeDecodeError\u001b[0m: 'charmap' codec can't decode byte 0x8d in position 28: character maps to <undefined>"
     ]
    }
   ],
   "source": [
    "# opening file with default encoding\n",
    "file = open('./data.txt')\n",
    "string = file.read()\n",
    "string"
   ]
  },
  {
   "cell_type": "code",
   "execution_count": 20,
   "id": "76f72621",
   "metadata": {},
   "outputs": [
    {
     "data": {
      "text/plain": [
       "'writing this in the files👍👍'"
      ]
     },
     "execution_count": 20,
     "metadata": {},
     "output_type": "execute_result"
    }
   ],
   "source": [
    "# opening file with 'utf-8' encoding\n",
    "file = open('./data.txt', encoding='utf-8')\n",
    "string = file.read()\n",
    "string"
   ]
  },
  {
   "cell_type": "code",
   "execution_count": 28,
   "id": "8f25e11f",
   "metadata": {},
   "outputs": [
    {
     "name": "stdout",
     "output_type": "stream",
     "text": [
      "writing this in the files👍👍\n"
     ]
    }
   ],
   "source": [
    "# opening file with 'with' keyword\n",
    "with open('./data.txt', encoding='utf-8') as a_file:\n",
    "    print(a_file.read())"
   ]
  },
  {
   "cell_type": "raw",
   "id": "84788242",
   "metadata": {},
   "source": [
    "note:\n",
    "open file with 'with' keyword closes the file autometically"
   ]
  },
  {
   "cell_type": "code",
   "execution_count": null,
   "id": "2ce0881d",
   "metadata": {},
   "outputs": [],
   "source": []
  }
 ],
 "metadata": {
  "kernelspec": {
   "display_name": "Python 3 (ipykernel)",
   "language": "python",
   "name": "python3"
  },
  "language_info": {
   "codemirror_mode": {
    "name": "ipython",
    "version": 3
   },
   "file_extension": ".py",
   "mimetype": "text/x-python",
   "name": "python",
   "nbconvert_exporter": "python",
   "pygments_lexer": "ipython3",
   "version": "3.11.5"
  }
 },
 "nbformat": 4,
 "nbformat_minor": 5
}
