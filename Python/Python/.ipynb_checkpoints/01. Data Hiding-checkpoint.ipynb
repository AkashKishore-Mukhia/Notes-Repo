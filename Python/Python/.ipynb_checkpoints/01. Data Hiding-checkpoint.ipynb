{
 "cells": [
  {
   "cell_type": "raw",
   "id": "2d712735",
   "metadata": {},
   "source": [
    "In python we use (__) in front of attributes that will be not directly visible outside."
   ]
  },
  {
   "cell_type": "code",
   "execution_count": 9,
   "id": "241d2f76",
   "metadata": {},
   "outputs": [
    {
     "name": "stdout",
     "output_type": "stream",
     "text": [
      "secret\n"
     ]
    },
    {
     "ename": "AttributeError",
     "evalue": "'myClass' object has no attribute '__hidden_variable'",
     "output_type": "error",
     "traceback": [
      "\u001b[1;31m---------------------------------------------------------------------------\u001b[0m",
      "\u001b[1;31mAttributeError\u001b[0m                            Traceback (most recent call last)",
      "Cell \u001b[1;32mIn[9], line 10\u001b[0m\n\u001b[0;32m      8\u001b[0m obj \u001b[38;5;241m=\u001b[39m myClass()\n\u001b[0;32m      9\u001b[0m \u001b[38;5;28mprint\u001b[39m(obj\u001b[38;5;241m.\u001b[39mshowSecret())\n\u001b[1;32m---> 10\u001b[0m \u001b[38;5;28mprint\u001b[39m(obj\u001b[38;5;241m.\u001b[39m__hidden_variable)\n",
      "\u001b[1;31mAttributeError\u001b[0m: 'myClass' object has no attribute '__hidden_variable'"
     ]
    }
   ],
   "source": [
    "class myClass:\n",
    "    \n",
    "    __hidden_variable = 'secret'\n",
    "    \n",
    "    def showSecret(self):\n",
    "        return self.__hidden_variable\n",
    "    \n",
    "obj = myClass()\n",
    "print(obj.showSecret())\n",
    "print(obj.__hidden_variable)\n",
    "\n",
    "# a way to access hiddent attributes using object reference\n",
    "# print(obj._myClass__hidden_variable)"
   ]
  },
  {
   "cell_type": "code",
   "execution_count": null,
   "id": "b5da7df5",
   "metadata": {},
   "outputs": [],
   "source": []
  },
  {
   "cell_type": "code",
   "execution_count": null,
   "id": "081a5bca",
   "metadata": {},
   "outputs": [],
   "source": []
  }
 ],
 "metadata": {
  "kernelspec": {
   "display_name": "Python 3 (ipykernel)",
   "language": "python",
   "name": "python3"
  },
  "language_info": {
   "codemirror_mode": {
    "name": "ipython",
    "version": 3
   },
   "file_extension": ".py",
   "mimetype": "text/x-python",
   "name": "python",
   "nbconvert_exporter": "python",
   "pygments_lexer": "ipython3",
   "version": "3.11.5"
  }
 },
 "nbformat": 4,
 "nbformat_minor": 5
}
