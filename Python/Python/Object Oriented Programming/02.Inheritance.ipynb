{
  "metadata": {
    "kernelspec": {
      "name": "python",
      "display_name": "Python (Pyodide)",
      "language": "python"
    },
    "language_info": {
      "codemirror_mode": {
        "name": "python",
        "version": 3
      },
      "file_extension": ".py",
      "mimetype": "text/x-python",
      "name": "python",
      "nbconvert_exporter": "python",
      "pygments_lexer": "ipython3",
      "version": "3.8"
    }
  },
  "nbformat_minor": 5,
  "nbformat": 4,
  "cells": [
    {
      "id": "31132a99-f255-42ff-abd7-b346a5bfc251",
      "cell_type": "markdown",
      "source": "### Inheritance:\n\nWe can use members of one class inside another class by using following ways:\n- By Composition(Has-A Relationship)\n- By Inheritance(Is-A Relationship)",
      "metadata": {}
    },
    {
      "id": "5d728c77-e31f-4a71-8e6a-1491512509d8",
      "cell_type": "markdown",
      "source": "#### 1. By Composition:\n- By using class Name or by using reference variable we can access members of one class inside another class, is know as Composition.",
      "metadata": {}
    },
    {
      "id": "efeb7d7a-d840-4817-88e6-540972f9b16b",
      "cell_type": "code",
      "source": "class School:\n    schoolName = 'J C School'\n    def getSchoolDetails(self):\n        return School.schoolName\n\nclass student:\n    def __init__(self, sname, sroolno):\n        self.sname = sname\n        self.sroolno = sroolno\n    def details(self, s):\n        # using the varaible of class school\n        print(s.getSchoolDetails)\n        print(self.sname)\n        print(self.sroolno)",
      "metadata": {
        "trusted": true
      },
      "outputs": [],
      "execution_count": 4
    },
    {
      "id": "871a735e-34a8-448d-ac32-f7992822591d",
      "cell_type": "code",
      "source": "S = School()\ns = student('ram', 12930)\ns.details(S)",
      "metadata": {
        "trusted": true
      },
      "outputs": [
        {
          "name": "stdout",
          "output_type": "stream",
          "text": "J C School\nram\n12930\n"
        }
      ],
      "execution_count": 5
    },
    {
      "id": "57659caf-6303-446e-93da-ff24ffb7f728",
      "cell_type": "markdown",
      "source": "#### 2. By Inheritance:\n\nWhat ever variable, methods and constructor available in the parent class, by default will be available to the child classes. Hence the main advantage of inheritance is code reusability and we can extend existing functionality by adding some more extra functionality.\n\n`syntax:`\n```python\n<Child_Class_Name>(<Parent_Class_Name>):\n```",
      "metadata": {}
    },
    {
      "id": "777e018c-07e4-445f-b303-bc21ef0c0bb3",
      "cell_type": "code",
      "source": "class School:\n    schoolName = 'J C School'\n    def getSchoolDetails(self):\n        return School.schoolName\n\nclass student(School):\n    def __init__(self, sname, sroolno):\n        self.sname = sname\n        self.sroolno = sroolno\n    def details(self):\n        # using the varaible of class school\n        print(self.getSchoolDetails())\n        print(self.sname)\n        print(self.sroolno)",
      "metadata": {
        "trusted": true
      },
      "outputs": [],
      "execution_count": 50
    },
    {
      "id": "defc5b6e-669e-4f92-82b0-a30ba41dbfcb",
      "cell_type": "code",
      "source": "s = student('ram', 43439)\ns.details()",
      "metadata": {
        "trusted": true
      },
      "outputs": [
        {
          "name": "stdout",
          "output_type": "stream",
          "text": "J C School\nram\n43439\n"
        }
      ],
      "execution_count": 51
    },
    {
      "id": "1c2f229d-e8c6-4090-8e7a-d0e4e5ab713e",
      "cell_type": "markdown",
      "source": "`Note:` Whatever method and members present inside the parent class are automatically available to the child class. so with the child class reference variable we can access all the method of both classes.",
      "metadata": {}
    },
    {
      "id": "267b25a2-aa42-4620-a286-9cac0d2bedc5",
      "cell_type": "code",
      "source": "class P:\n    a = 10\n    def __init__(self):\n        self.b = 20\n\nclass C(P):\n    c = 30\n    def __init__(self):\n        # if we comment this line b will not be available to this class\n        super().__init__()\n        self.d = 40",
      "metadata": {
        "trusted": true
      },
      "outputs": [],
      "execution_count": 61
    },
    {
      "id": "e0769fcd-814e-4b3e-a074-a28cc42abdbf",
      "cell_type": "code",
      "source": "c = C()\nprint(c.a, c.b, c.c, c.d)",
      "metadata": {
        "trusted": true
      },
      "outputs": [
        {
          "name": "stdout",
          "output_type": "stream",
          "text": "10 20 30 40\n"
        }
      ],
      "execution_count": 62
    },
    {
      "id": "93bb81bf-e609-451d-907f-b2baa5d77d17",
      "cell_type": "markdown",
      "source": "#### Types of Inheritance:",
      "metadata": {}
    },
    {
      "id": "34f4714a-5e5d-41ff-95fb-794892f8bcb4",
      "cell_type": "markdown",
      "source": "##### 1. Single Inheritance:\n\nThe concept of inheriting the properties from one class to another is know as single inheritance.",
      "metadata": {}
    },
    {
      "id": "06c01b25-456a-45a4-b0a3-38517c9e2294",
      "cell_type": "code",
      "source": "class P:\n    def m1(self):\n        print('P class method')\n\nclass C(P):\n    def m2(self):\n        print('C class method')",
      "metadata": {
        "trusted": true
      },
      "outputs": [],
      "execution_count": 72
    },
    {
      "id": "014d41a4-3b3b-428b-9b75-cea519f7eef9",
      "cell_type": "code",
      "source": "c = C()\nc.m2()\nc.m1()",
      "metadata": {
        "trusted": true
      },
      "outputs": [
        {
          "name": "stdout",
          "output_type": "stream",
          "text": "C class method\nP class method\n"
        }
      ],
      "execution_count": 73
    },
    {
      "id": "b472d2c5-919e-4517-9af6-444f83214fd2",
      "cell_type": "markdown",
      "source": "##### 2. Multi Level Inheritance:\n\nThe concept of inheriting properties of multiple classes to a single class with the concept of one after another in know as multi level inheritance.",
      "metadata": {}
    },
    {
      "id": "76957979-668b-4c64-a01b-ed190340778c",
      "cell_type": "code",
      "source": "class P:\n    def m1(self):\n        print('P class method')\n\nclass C(P):\n    def m2(self):\n        print('C class method')\n\nclass CC(C):\n    def m3(self):\n        print('CC class method')",
      "metadata": {
        "trusted": true
      },
      "outputs": [],
      "execution_count": 74
    },
    {
      "id": "1b689e7d-86f2-4850-bdc7-91584f3ebcce",
      "cell_type": "code",
      "source": "cc = CC()\ncc.m1()\ncc.m2()\ncc.m3()",
      "metadata": {
        "trusted": true
      },
      "outputs": [
        {
          "name": "stdout",
          "output_type": "stream",
          "text": "P class method\nC class method\nCC class method\n"
        }
      ],
      "execution_count": 75
    },
    {
      "id": "a1940bcc-590b-48f7-81c5-964511ba8ec8",
      "cell_type": "markdown",
      "source": "##### 3. Hierarchical Inheritance:\n\nThe concept of interiting properties from one class into multiple classes which are in same level is know as hierarchical interitance.",
      "metadata": {}
    },
    {
      "id": "095f97c1-dfae-4c10-9513-285169656125",
      "cell_type": "code",
      "source": "class P:\n    def m(self):\n        print('P class method')\n\nclass C1(P):\n    def m1(self):\n        print('C1 class method')\n\nclass C2(P):\n    def m2(self):\n        print('C2 class method')",
      "metadata": {
        "trusted": true
      },
      "outputs": [],
      "execution_count": 80
    },
    {
      "id": "c7bed436-1a77-4c51-903d-104f1855bfe7",
      "cell_type": "code",
      "source": "c1 = C1()\nc2 = C2()\nc1.m()\nc1.m1()\nc2.m()\nc2.m2()",
      "metadata": {
        "trusted": true
      },
      "outputs": [
        {
          "name": "stdout",
          "output_type": "stream",
          "text": "P class method\nC1 class method\nP class method\nC2 class method\n"
        }
      ],
      "execution_count": 81
    },
    {
      "id": "99028887-d32d-4cc8-94c3-52bbcc4c7a4a",
      "cell_type": "markdown",
      "source": "##### 4. Multiple Inheritance\n\nThe concept of inheriting from multiple class into a single class at a time is know as Multiple Inheritance.",
      "metadata": {}
    },
    {
      "id": "75b6b629-8579-4253-ae31-9365dabb9ef8",
      "cell_type": "code",
      "source": "class Frontend:\n    def UI(self):\n        print('UI is ready')\n\nclass Backend:\n    def API(self):\n        print('API\\'s are ready')\n\nclass Webpage(Frontend, Backend):\n    def Application(self):\n        self.UI()\n        self.API()\n        print('Application is ready')",
      "metadata": {
        "trusted": true
      },
      "outputs": [],
      "execution_count": 84
    },
    {
      "id": "930aa33b-d2b5-4c59-8e99-74e69c1517e1",
      "cell_type": "code",
      "source": "wp = Webpage()\nwp.Application()",
      "metadata": {
        "trusted": true
      },
      "outputs": [
        {
          "name": "stdout",
          "output_type": "stream",
          "text": "UI is ready\nAPI's are ready\nApplication is ready\n"
        }
      ],
      "execution_count": 85
    },
    {
      "id": "706b426b-15af-4d53-aab5-6ad8eac74f13",
      "cell_type": "markdown",
      "source": "##### 5. Hybrid Interitance:\n\nThe concept of inheriting atleast two different inheriting techniques together is know as hybrid Inheritance.",
      "metadata": {}
    },
    {
      "id": "eb1f3436-8f9f-4798-a67a-a0c01b72d710",
      "cell_type": "markdown",
      "source": "##### 6. Cyclic Inheritance:\n\nThe concept of inheriting properties from one class to another class in a cyclic way, is called cyclic Inheritance. Python don't support cyclic inheritance.\n\n`Ex:`\n```python\n# example1\nclass A(B):\n    pass\nclass B(A):\n    pass\n    \n#example2\nclass A(A):\n    pass\n```\n\n\n",
      "metadata": {}
    },
    {
      "id": "c3b6d58d-e9f4-4263-b1f3-1de6cfe9dd62",
      "cell_type": "markdown",
      "source": "#### Supre() method:\n\nSuper is a built-in method which is usefull to call super class constructor, variables, and methods from the child class.",
      "metadata": {}
    },
    {
      "id": "fa6204df-8d1d-4ec3-96ff-aed29422c3d1",
      "cell_type": "code",
      "source": "class Person:\n    def __init__(self, name, age):\n        self.name = name\n        self.age = age\n    def display(self):\n        print('person name', self.name)\n        print('person age', self.age)\n\nclass Student(Person):\n    def __init__(self, name, roll):\n        self.name = name\n        self.roll = roll\n        super().__init__(name, 23)\n    def display(self):\n        super().display()\n        print('student name', self.name)\n        print('student roll', self.roll)",
      "metadata": {
        "trusted": true
      },
      "outputs": [],
      "execution_count": 89
    },
    {
      "id": "3c4f3633-e94f-405b-8d24-152cb8a249f6",
      "cell_type": "code",
      "source": "s = Student('ram', 34)\ns.display()",
      "metadata": {
        "trusted": true
      },
      "outputs": [
        {
          "name": "stdout",
          "output_type": "stream",
          "text": "person name ram\nperson age 23\nstudent name ram\nstudent roll 34\n"
        }
      ],
      "execution_count": 92
    },
    {
      "id": "89a51710-003f-4dc3-9a5f-4d89db1f5998",
      "cell_type": "markdown",
      "source": "**How to call method of a particular super class :**\n\nWe can use the following approaches\n1. `super(<super-class_of_class_name>, self).<class_members>()`\n2. `<class_name>.<class_members>(self)`",
      "metadata": {}
    },
    {
      "id": "457849b0-5b0d-43f7-92e4-77af3f3eee7f",
      "cell_type": "markdown",
      "source": "#### Various important points about super() :\n\n##### Case 1:\nFrom child we are not allowed to access parent class instance variables using the super(), Compolsory we have to use self only. \n\nBut we can access parent class static variables using super()",
      "metadata": {}
    },
    {
      "id": "83846c03-76c7-48df-a204-45dd89be67f0",
      "cell_type": "code",
      "source": "class P: \n    a = 10\n    def __init__(self):\n        self.b = 20\n\nclass C(P):\n    def m1(self):\n        print(super().a) # valid\n        print(self.b) # valid\n        print(super().b) # invalid",
      "metadata": {
        "trusted": true
      },
      "outputs": [],
      "execution_count": 93
    },
    {
      "id": "5dbce58d-b688-462b-93f6-d48df7dd5680",
      "cell_type": "code",
      "source": "c = C()\nc.m1()",
      "metadata": {
        "trusted": true
      },
      "outputs": [
        {
          "name": "stdout",
          "output_type": "stream",
          "text": "10\n20\n"
        },
        {
          "ename": "<class 'AttributeError'>",
          "evalue": "'super' object has no attribute 'b'",
          "traceback": [
            "\u001b[0;31m---------------------------------------------------------------------------\u001b[0m",
            "\u001b[0;31mAttributeError\u001b[0m                            Traceback (most recent call last)",
            "Cell \u001b[0;32mIn[94], line 2\u001b[0m\n\u001b[1;32m      1\u001b[0m c \u001b[38;5;241m=\u001b[39m C()\n\u001b[0;32m----> 2\u001b[0m \u001b[43mc\u001b[49m\u001b[38;5;241;43m.\u001b[39;49m\u001b[43mm1\u001b[49m\u001b[43m(\u001b[49m\u001b[43m)\u001b[49m\n",
            "Cell \u001b[0;32mIn[93], line 10\u001b[0m, in \u001b[0;36mC.m1\u001b[0;34m(self)\u001b[0m\n\u001b[1;32m      8\u001b[0m \u001b[38;5;28mprint\u001b[39m(\u001b[38;5;28msuper\u001b[39m()\u001b[38;5;241m.\u001b[39ma) \u001b[38;5;66;03m# valid\u001b[39;00m\n\u001b[1;32m      9\u001b[0m \u001b[38;5;28mprint\u001b[39m(\u001b[38;5;28mself\u001b[39m\u001b[38;5;241m.\u001b[39mb) \u001b[38;5;66;03m# valid\u001b[39;00m\n\u001b[0;32m---> 10\u001b[0m \u001b[38;5;28mprint\u001b[39m(\u001b[38;5;28;43msuper\u001b[39;49m\u001b[43m(\u001b[49m\u001b[43m)\u001b[49m\u001b[38;5;241;43m.\u001b[39;49m\u001b[43mb\u001b[49m)\n",
            "\u001b[0;31mAttributeError\u001b[0m: 'super' object has no attribute 'b'"
          ],
          "output_type": "error"
        }
      ],
      "execution_count": 94
    },
    {
      "id": "cc6f7958-26f9-4fe9-9044-bc37ab91b775",
      "cell_type": "markdown",
      "source": "##### Case 2:\nFrom child class constructor, instance method, we can access parent class instance, class, static methods by using super()",
      "metadata": {}
    },
    {
      "id": "b88bd88e-7ecf-4c79-855b-aff90160c90e",
      "cell_type": "code",
      "source": "class P: \n    a = 10\n    def __init__(self):\n        print('Parent constructor')\n    def m1(self):\n        print('Parent class m1')\n\n    @classmethod\n    def m2(cls):\n        print('Parent class m2')\n    @staticmethod\n    def m3():\n        print('parent class m3')\n    \nclass C(P):\n    def __init__(self):\n        super().__init__()\n        super().m1()\n        super().m2()\n        super().m3()\n    def m1(self):\n        super().__init__()\n        super().m1()\n        super().m2()\n        super().m3()",
      "metadata": {
        "trusted": true
      },
      "outputs": [],
      "execution_count": 95
    },
    {
      "id": "2306cc7f-a0b1-4114-8d6a-823dad38fb2c",
      "cell_type": "code",
      "source": "c = C()\nc.m1()",
      "metadata": {
        "trusted": true
      },
      "outputs": [
        {
          "name": "stdout",
          "output_type": "stream",
          "text": "Parent constructor\nParent class m1\nParent class m2\nparent class m3\nParent constructor\nParent class m1\nParent class m2\nparent class m3\n"
        }
      ],
      "execution_count": 96
    },
    {
      "id": "b976403d-60b4-4411-9b68-816d3c632e5c",
      "cell_type": "markdown",
      "source": "##### Case 3:\nFrom child class, class method we can not access parent class instance and constructors by using super() dirctly(but indirectly possible), but we can access parent static and class methods.",
      "metadata": {}
    },
    {
      "id": "7df711de-c091-4566-ae37-f4cb9fb7f966",
      "cell_type": "code",
      "source": "class P: \n    a = 10\n    def __init__(self):\n        print('Parent constructor')\n    def m1(self):\n        print('Parent class m1')\n\n    @classmethod\n    def m2(cls):\n        print('Parent class m2')\n    @staticmethod\n    def m3():\n        print('parent class m3')\n    \nclass C(P):\n    @classmethod\n    def m1(cls):\n        # super().__init__() # invalid\n        # super().m1() # invalid\n        super().m2() # valid\n        super().m3() # valid",
      "metadata": {
        "trusted": true
      },
      "outputs": [],
      "execution_count": 103
    },
    {
      "id": "af17f3d2-4483-40f8-91d3-ca278641451e",
      "cell_type": "code",
      "source": "c = C()\nc.m1()",
      "metadata": {
        "trusted": true
      },
      "outputs": [
        {
          "name": "stdout",
          "output_type": "stream",
          "text": "Parent constructor\nParent class m2\nparent class m3\n"
        }
      ],
      "execution_count": 104
    },
    {
      "id": "64dd1774-0cc4-4077-97de-569f2719c220",
      "cell_type": "markdown",
      "source": "**How to access parent class instance and constuctor method from child class, class method**",
      "metadata": {}
    },
    {
      "id": "700d6d66-fad5-4f4a-974f-4c3964351f48",
      "cell_type": "code",
      "source": "class P: \n    a = 10\n    def __init__(self):\n        print('Parent constructor')\n    def m1(self):\n        print('Parent class m1')\n\n    @classmethod\n    def m2(cls):\n        print('Parent class m2')\n    @staticmethod\n    def m3():\n        print('parent class m3')\n    \nclass C(P):\n    @classmethod\n    def m1(cls):\n        super(C, cls).__init__(cls)\n        super(C, cls).m1(cls)",
      "metadata": {
        "trusted": true
      },
      "outputs": [],
      "execution_count": 109
    },
    {
      "id": "8530f2e3-3cd4-4d07-915f-c1aa800059c0",
      "cell_type": "code",
      "source": "c = C()\nc.m1()",
      "metadata": {
        "trusted": true
      },
      "outputs": [
        {
          "name": "stdout",
          "output_type": "stream",
          "text": "Parent constructor\nParent constructor\nParent class m1\n"
        }
      ],
      "execution_count": 110
    },
    {
      "id": "d71b9be3-f88c-4906-a4c8-381ce97cb1d0",
      "cell_type": "markdown",
      "source": "##### Case 4: \nIn child class static method we are not allowed to use super() generally (but in a special way we can use)",
      "metadata": {}
    },
    {
      "id": "1d9d1b52-15c3-4420-8ee8-11f26d6eb074",
      "cell_type": "code",
      "source": "class P:\n    a = 10\n\nclass C(P):\n    @staticmethod\n    def m1():\n        super().a",
      "metadata": {
        "trusted": true
      },
      "outputs": [],
      "execution_count": 111
    },
    {
      "id": "9d9e4e03-1b5a-4275-b04f-f29b76d1c7d1",
      "cell_type": "code",
      "source": "c = C()\nc.m1()",
      "metadata": {
        "trusted": true
      },
      "outputs": [
        {
          "ename": "<class 'RuntimeError'>",
          "evalue": "super(): no arguments",
          "traceback": [
            "\u001b[0;31m---------------------------------------------------------------------------\u001b[0m",
            "\u001b[0;31mRuntimeError\u001b[0m                              Traceback (most recent call last)",
            "Cell \u001b[0;32mIn[112], line 2\u001b[0m\n\u001b[1;32m      1\u001b[0m c \u001b[38;5;241m=\u001b[39m C()\n\u001b[0;32m----> 2\u001b[0m \u001b[43mc\u001b[49m\u001b[38;5;241;43m.\u001b[39;49m\u001b[43mm1\u001b[49m\u001b[43m(\u001b[49m\u001b[43m)\u001b[49m\n",
            "Cell \u001b[0;32mIn[111], line 7\u001b[0m, in \u001b[0;36mC.m1\u001b[0;34m()\u001b[0m\n\u001b[1;32m      5\u001b[0m \u001b[38;5;129m@staticmethod\u001b[39m\n\u001b[1;32m      6\u001b[0m \u001b[38;5;28;01mdef\u001b[39;00m \u001b[38;5;21mm1\u001b[39m():\n\u001b[0;32m----> 7\u001b[0m     \u001b[38;5;28;43msuper\u001b[39;49m\u001b[43m(\u001b[49m\u001b[43m)\u001b[49m\u001b[38;5;241m.\u001b[39ma\n",
            "\u001b[0;31mRuntimeError\u001b[0m: super(): no arguments"
          ],
          "output_type": "error"
        }
      ],
      "execution_count": 112
    },
    {
      "id": "1f109683-5cec-43ce-82f0-7972f07978e8",
      "cell_type": "markdown",
      "source": "**How to call parent class static method from child class static method using super() :**",
      "metadata": {}
    },
    {
      "id": "2c00f99f-1781-46dc-9290-30ec962bafe5",
      "cell_type": "code",
      "source": "class P:\n    @staticmethod\n    def m1():\n        print('parent class m1 method')\n\nclass C(P):\n    @staticmethod\n    def m1():\n        super(C, C).m1()\n        print('Child class m1 method')",
      "metadata": {
        "trusted": true
      },
      "outputs": [],
      "execution_count": 115
    },
    {
      "id": "11e6df83-ae9c-44ab-9559-ee8436b8b9c2",
      "cell_type": "code",
      "source": "c = C()\nc.m1()",
      "metadata": {
        "trusted": true
      },
      "outputs": [
        {
          "name": "stdout",
          "output_type": "stream",
          "text": "parent class m1 method\nChild class m1 method\n"
        }
      ],
      "execution_count": 116
    }
  ]
}