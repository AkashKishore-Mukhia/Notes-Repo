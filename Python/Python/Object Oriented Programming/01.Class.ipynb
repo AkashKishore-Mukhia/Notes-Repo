{
  "metadata": {
    "kernelspec": {
      "name": "python",
      "display_name": "Python (Pyodide)",
      "language": "python"
    },
    "language_info": {
      "codemirror_mode": {
        "name": "python",
        "version": 3
      },
      "file_extension": ".py",
      "mimetype": "text/x-python",
      "name": "python",
      "nbconvert_exporter": "python",
      "pygments_lexer": "ipython3",
      "version": "3.8"
    }
  },
  "nbformat_minor": 5,
  "nbformat": 4,
  "cells": [
    {
      "id": "6ee73ea6-c50c-472c-bb50-53db320647fe",
      "cell_type": "markdown",
      "source": "## Class",
      "metadata": {}
    },
    {
      "id": "fbd236f8-02c4-4362-acb1-7bd7457b6945",
      "cell_type": "markdown",
      "source": "### What is Class?\n\n- In python everything is a object. To create a object we need some blueprint, model, plan which is nothing but class.\n- we can write a class to represent properties(attribute) and actions(behaviour) of a object.\n- Properties can be represented by variables.\n- Behaviour can be represented by methods.\n\n`syntax:`\n```python\nclass <className>:\n    \"information about the class\"\n    variables: instance, static, local variables.\n    methods: instacne, static, class method.\n```",
      "metadata": {}
    },
    {
      "id": "49e0db54-2b99-4cae-b05e-c3532412b7e2",
      "cell_type": "markdown",
      "source": "`Note:` In python we can get the docstring of class by below methods.\n1. className.__doc__\n2. help(className)",
      "metadata": {}
    },
    {
      "id": "0a926047-7237-40a0-959b-42c0b447bb87",
      "cell_type": "markdown",
      "source": "**Within python class we represent data by using variables**\n\nThere are 3 type of variables in python class:\n1. Instance Variable(Object level variable)\n2. Static Variable(Class level variable)\n3. Local Variable(Method level variable)",
      "metadata": {}
    },
    {
      "id": "064b5113-b7e7-41af-adbf-51493c63b2c6",
      "cell_type": "markdown",
      "source": "**Within python class we represent operations on varaibles by using methods**\n\nThere are 3 type of methods in python class:\n1. Instance Methods\n2. Class Methods\n3. Static Methods\n",
      "metadata": {}
    },
    {
      "id": "f4b3acef-157e-4272-bbc9-c3a168c325e6",
      "cell_type": "markdown",
      "source": "### What is Object :\n\nPhysical existance of a class is nothing but a object. We can create any number of objects for a class.\n\n`Syntax:`\n```python\nreferenceVariable = ClassName()\n```",
      "metadata": {}
    },
    {
      "id": "49e6427f-e3b3-44b8-8b47-183d2e0ea063",
      "cell_type": "markdown",
      "source": "#### What is Reference Variable:\n\nThe variable which can be used to refer object is called reference variable.\n\nUsing reference variable we can access properties and methods of object.",
      "metadata": {}
    },
    {
      "id": "a9afb7f4-41ed-4572-a72c-4b0d2e713e54",
      "cell_type": "code",
      "source": "class student:\n\n    #constructor method\n    def __init__(self, name, rollno):\n        self.name = name\n        self.rollno = rollno\n\n    def talk(self):\n        print(self.name)\n        print(self.rollno)",
      "metadata": {
        "trusted": true
      },
      "outputs": [],
      "execution_count": 28
    },
    {
      "id": "d1fc6a08-cd32-48f5-bc72-5cba783a80e3",
      "cell_type": "code",
      "source": "s = student('John', 23027)\ns.talk()",
      "metadata": {
        "trusted": true
      },
      "outputs": [
        {
          "name": "stdout",
          "output_type": "stream",
          "text": "John\n23027\n"
        }
      ],
      "execution_count": 29
    },
    {
      "id": "280de0f2-7adb-41c5-bc78-e8129df22de5",
      "cell_type": "markdown",
      "source": "#### Self Variable:\n\n- `self` is a default variable pointing to current object.\n- By using `self` pointere we can access instance variable and instance methods of object.\n\n`Note:`\n1. `self` should be the first parameter inside constructor.\n2. `self` should be the first parameter inside instance method.",
      "metadata": {}
    },
    {
      "id": "f783f56b-a306-4db0-8d4c-86111d016f91",
      "cell_type": "markdown",
      "source": "#### Type of Variables:",
      "metadata": {}
    },
    {
      "id": "8adaa0f7-7f23-453f-8a1d-32b9130affbd",
      "cell_type": "markdown",
      "source": "##### Instance Variable:\n\n- If the value of the variable is varied from object to obeject such type of variable is called Instance Variable.\n- For every object a seperate copy of instance variable is created.",
      "metadata": {}
    },
    {
      "id": "c2840256-a148-43f3-8b5a-7aa23ba048bb",
      "cell_type": "markdown",
      "source": "**Where we can use instance variable**\n1. Inside constructor using the self variable.\n2. Inside Instance method using the self variable.\n3. Outside of the class using the object reference variable.",
      "metadata": {}
    },
    {
      "id": "24ce6909-5bec-445b-ab95-8e6d25c28ef7",
      "cell_type": "markdown",
      "source": "**1. Inside constructor using the self variable.**\n\nWe can delclare instance variable inside constructor using the self keyword. Once we create the object, autometically the variable will be added to the object.",
      "metadata": {}
    },
    {
      "id": "0e9a6e2c-3633-437c-aaec-a2d931a0ed4f",
      "cell_type": "code",
      "source": "# Inside constructor using the self variable.\nclass Employee:\n    def __init__(self, eno, ename):\n        self.eno = eno\n        self.ename = ename",
      "metadata": {
        "trusted": true
      },
      "outputs": [],
      "execution_count": 5
    },
    {
      "id": "4a8f6572-31eb-4fb6-b8a5-9b17aef2a1ab",
      "cell_type": "code",
      "source": "e = Employee(32840, 'Ravi')\ne.__dict__",
      "metadata": {
        "trusted": true
      },
      "outputs": [
        {
          "execution_count": 6,
          "output_type": "execute_result",
          "data": {
            "text/plain": "{'eno': 32840, 'ename': 'Ravi'}"
          },
          "metadata": {}
        }
      ],
      "execution_count": 6
    },
    {
      "id": "ee9b6c36-137b-4712-918b-806841971c36",
      "cell_type": "markdown",
      "source": "**2. Inside Instance method using the self variable.**\n\nWe can delclare instance variable inside instance method using the self keyword. If any instance variable is declared inside instance method, the variable will be added to the object once the method is called.",
      "metadata": {}
    },
    {
      "id": "c0b2a2ba-9512-406b-9d83-5539d2d2e724",
      "cell_type": "code",
      "source": "# Inside Instance method using the self variable.\nclass Employee:\n    def __init__(self, eno, ename):\n        self.eno = eno\n        self.ename = ename\n    # Instance method\n    def info(self, erating):\n        self.erating = erating",
      "metadata": {
        "trusted": true
      },
      "outputs": [],
      "execution_count": 8
    },
    {
      "id": "b46e305e-2bfe-4f8d-832f-02eed691ce4b",
      "cell_type": "code",
      "source": "e = Employee(32840, 'Ravi')\ne.__dict__",
      "metadata": {
        "trusted": true
      },
      "outputs": [
        {
          "execution_count": 10,
          "output_type": "execute_result",
          "data": {
            "text/plain": "{'eno': 32840, 'ename': 'Ravi'}"
          },
          "metadata": {}
        }
      ],
      "execution_count": 10
    },
    {
      "id": "97761edd-802e-454a-a765-c44e2900f5ae",
      "cell_type": "code",
      "source": "e.info(8)\ne.__dict__",
      "metadata": {
        "trusted": true
      },
      "outputs": [
        {
          "execution_count": 11,
          "output_type": "execute_result",
          "data": {
            "text/plain": "{'eno': 32840, 'ename': 'Ravi', 'erating': 8}"
          },
          "metadata": {}
        }
      ],
      "execution_count": 11
    },
    {
      "id": "36befa2d-22fc-4afe-b9b9-95b54c1fdb71",
      "cell_type": "markdown",
      "source": "**3. Outside of the class using the object reference variable.**\n\nWe can also add instance variable from outside of class to a paricular object.",
      "metadata": {}
    },
    {
      "id": "595a5cb6-adbc-48d9-a1e3-2a7a9f9249b1",
      "cell_type": "code",
      "source": "class Employee:\n    def __init__(self, eno, ename):\n        self.eno = eno\n        self.ename = ename",
      "metadata": {
        "trusted": true
      },
      "outputs": [],
      "execution_count": 12
    },
    {
      "id": "c644fb38-8271-45b2-b02a-eb7cb931ffbe",
      "cell_type": "code",
      "source": "e = Employee(32490, 'Ravi')\ne.__dict__",
      "metadata": {
        "trusted": true
      },
      "outputs": [
        {
          "execution_count": 16,
          "output_type": "execute_result",
          "data": {
            "text/plain": "{'eno': 32490, 'ename': 'Ravi'}"
          },
          "metadata": {}
        }
      ],
      "execution_count": 16
    },
    {
      "id": "410b35d7-663f-4193-953d-0096e55bad56",
      "cell_type": "code",
      "source": "e.rating = 8\ne.__dict__",
      "metadata": {
        "trusted": true
      },
      "outputs": [
        {
          "execution_count": 17,
          "output_type": "execute_result",
          "data": {
            "text/plain": "{'eno': 32490, 'ename': 'Ravi', 'rating': 8}"
          },
          "metadata": {}
        }
      ],
      "execution_count": 17
    },
    {
      "id": "35021300-bf18-4378-9928-6e5290034cba",
      "cell_type": "markdown",
      "source": "**How to Access Instance Variable:**\n\nWe can access instance variable within the class using self variable and outside of the class using reference variable.",
      "metadata": {}
    },
    {
      "id": "63212902-d25f-4b5f-9bec-a361fd51c742",
      "cell_type": "code",
      "source": "class Test:\n    def __init__(self, a, b):\n        self.a = a\n        self.b = b\n    def display(self):\n        # accessing instance variable using self variable\n        print(self.a, self.b)\n\nt = Test(2, 4)\nt.display()\n# accessing instance variable using reference variable\nprint(t.a, t.b)",
      "metadata": {
        "trusted": true
      },
      "outputs": [
        {
          "name": "stdout",
          "output_type": "stream",
          "text": "2 4\n2 4\n"
        }
      ],
      "execution_count": 3
    },
    {
      "id": "939f1e68-9534-4cb1-9f14-7a7e9aa5d94b",
      "cell_type": "markdown",
      "source": "##### Static Variable:\n\n- If the value of a variable is not varied from object to object, such type of variable we have to declare within the class directly but outside of any methods, such type of variable is know as Static Variable.\n- For total class only one copy of static variable will be create, and shared by all object of that class.\n- We can access static variable using the classname and the reference variable, but recomended to use classname.",
      "metadata": {}
    },
    {
      "id": "f3d4a94c-5092-4ea2-b716-ecb1937ed0df",
      "cell_type": "markdown",
      "source": "**Various places to declare static variable**\n\n- In general we can declare static variable anywere in the class but out of any method.\n- Inside constuctor using the classname.\n- Inside a instance method using the classname.\n- Inside a class method using cls or the classname.\n- Inside a static method using the classname.",
      "metadata": {}
    },
    {
      "id": "94839a6f-3f07-4dc0-b57e-5d626aa42aa3",
      "cell_type": "code",
      "source": "class Test:\n    # Static Variable\n    schoolName = 'Sami Vivekanand Vidyalay'\n\n    def __init__(self, teachers):\n        # Declaration using Classname\n        self.sno = 583\n        Test.NumberOfTeachers = teachers\n    def dressCode(self):\n        # Declaration using Classname\n        Test.NumberOfStudends = 400\n\n    @classmethod\n    def FounderInfo(cls):\n        # Declaration using Classname\n        Test.Founder = 'J.K lal'\n        # Declaration using cls variable\n        cls.Establisment = 1990\n        \n    @staticmethod\n    def AnuallBuget():\n        Test.Buget = 2000000",
      "metadata": {
        "trusted": true
      },
      "outputs": [],
      "execution_count": 18
    },
    {
      "id": "87008b22-46c6-4bfb-9ca6-cc93d98e5540",
      "cell_type": "code",
      "source": "Test.__dict__",
      "metadata": {
        "trusted": true
      },
      "outputs": [
        {
          "execution_count": 19,
          "output_type": "execute_result",
          "data": {
            "text/plain": "mappingproxy({'__module__': '__main__',\n              'schoolName': 'Sami Vivekanand Vidyalay',\n              '__init__': <function __main__.Test.__init__(self, teachers)>,\n              'dressCode': <function __main__.Test.dressCode(self)>,\n              'FounderInfo': <classmethod(<function Test.FounderInfo at 0x2176ba8>)>,\n              'AnuallBuget': <staticmethod(<function Test.AnuallBuget at 0x26359f0>)>,\n              '__dict__': <attribute '__dict__' of 'Test' objects>,\n              '__weakref__': <attribute '__weakref__' of 'Test' objects>,\n              '__doc__': None})"
          },
          "metadata": {}
        }
      ],
      "execution_count": 19
    },
    {
      "id": "aea4c01b-c68a-4d34-805f-868a70df1f5e",
      "cell_type": "code",
      "source": "print(Test.schoolName)",
      "metadata": {
        "trusted": true
      },
      "outputs": [
        {
          "name": "stdout",
          "output_type": "stream",
          "text": "Sami Vivekanand Vidyalay\n"
        }
      ],
      "execution_count": 20
    },
    {
      "id": "63113037-a7ea-49c0-841d-e57b1ef61166",
      "cell_type": "code",
      "source": "t = Test(40)\nprint(t.__dict__)\nTest.__dict__",
      "metadata": {
        "trusted": true
      },
      "outputs": [
        {
          "name": "stdout",
          "output_type": "stream",
          "text": "{'sno': 583}\n"
        },
        {
          "execution_count": 24,
          "output_type": "execute_result",
          "data": {
            "text/plain": "mappingproxy({'__module__': '__main__',\n              'schoolName': 'Sami Vivekanand Vidyalay',\n              '__init__': <function __main__.Test.__init__(self, teachers)>,\n              'dressCode': <function __main__.Test.dressCode(self)>,\n              'FounderInfo': <classmethod(<function Test.FounderInfo at 0x2176ba8>)>,\n              'AnuallBuget': <staticmethod(<function Test.AnuallBuget at 0x26359f0>)>,\n              '__dict__': <attribute '__dict__' of 'Test' objects>,\n              '__weakref__': <attribute '__weakref__' of 'Test' objects>,\n              '__doc__': None,\n              'NumberOfTeachers': 40})"
          },
          "metadata": {}
        }
      ],
      "execution_count": 24
    },
    {
      "id": "e8392efc-7a80-401b-a037-376f04adf142",
      "cell_type": "code",
      "source": "t.dressCode()\nTest.__dict__",
      "metadata": {
        "trusted": true
      },
      "outputs": [
        {
          "execution_count": 25,
          "output_type": "execute_result",
          "data": {
            "text/plain": "mappingproxy({'__module__': '__main__',\n              'schoolName': 'Sami Vivekanand Vidyalay',\n              '__init__': <function __main__.Test.__init__(self, teachers)>,\n              'dressCode': <function __main__.Test.dressCode(self)>,\n              'FounderInfo': <classmethod(<function Test.FounderInfo at 0x2176ba8>)>,\n              'AnuallBuget': <staticmethod(<function Test.AnuallBuget at 0x26359f0>)>,\n              '__dict__': <attribute '__dict__' of 'Test' objects>,\n              '__weakref__': <attribute '__weakref__' of 'Test' objects>,\n              '__doc__': None,\n              'NumberOfTeachers': 40,\n              'NumberOfStudends': 400})"
          },
          "metadata": {}
        }
      ],
      "execution_count": 25
    },
    {
      "id": "9875715d-02fc-48e6-82be-3035a7f36d0e",
      "cell_type": "code",
      "source": "t.FounderInfo()\nTest.__dict__",
      "metadata": {
        "trusted": true
      },
      "outputs": [
        {
          "execution_count": 26,
          "output_type": "execute_result",
          "data": {
            "text/plain": "mappingproxy({'__module__': '__main__',\n              'schoolName': 'Sami Vivekanand Vidyalay',\n              '__init__': <function __main__.Test.__init__(self, teachers)>,\n              'dressCode': <function __main__.Test.dressCode(self)>,\n              'FounderInfo': <classmethod(<function Test.FounderInfo at 0x2176ba8>)>,\n              'AnuallBuget': <staticmethod(<function Test.AnuallBuget at 0x26359f0>)>,\n              '__dict__': <attribute '__dict__' of 'Test' objects>,\n              '__weakref__': <attribute '__weakref__' of 'Test' objects>,\n              '__doc__': None,\n              'NumberOfTeachers': 40,\n              'NumberOfStudends': 400,\n              'Founder': 'J.K lal',\n              'Establisment': 1990})"
          },
          "metadata": {}
        }
      ],
      "execution_count": 26
    },
    {
      "id": "0eeb52b9-25e2-4ee9-b6cc-126b7fe62d10",
      "cell_type": "code",
      "source": "t.AnuallBuget()\nTest.__dict__",
      "metadata": {
        "trusted": true
      },
      "outputs": [
        {
          "execution_count": 27,
          "output_type": "execute_result",
          "data": {
            "text/plain": "mappingproxy({'__module__': '__main__',\n              'schoolName': 'Sami Vivekanand Vidyalay',\n              '__init__': <function __main__.Test.__init__(self, teachers)>,\n              'dressCode': <function __main__.Test.dressCode(self)>,\n              'FounderInfo': <classmethod(<function Test.FounderInfo at 0x2176ba8>)>,\n              'AnuallBuget': <staticmethod(<function Test.AnuallBuget at 0x26359f0>)>,\n              '__dict__': <attribute '__dict__' of 'Test' objects>,\n              '__weakref__': <attribute '__weakref__' of 'Test' objects>,\n              '__doc__': None,\n              'NumberOfTeachers': 40,\n              'NumberOfStudends': 400,\n              'Founder': 'J.K lal',\n              'Establisment': 1990,\n              'Buget': 2000000})"
          },
          "metadata": {}
        }
      ],
      "execution_count": 27
    },
    {
      "id": "1219a4a2-6687-48c5-a088-d2327025de23",
      "cell_type": "markdown",
      "source": "**How to access static variable**\n\n- inside constuctor by using self, classname\n- inside instance method by using self, classname\n- inside class method by using cls, classname\n- inside static method by using classname\n- From outside of the class using object reference and Classname",
      "metadata": {}
    },
    {
      "id": "62a80dbd-1ddc-4ae2-a585-ed71c53eed94",
      "cell_type": "markdown",
      "source": "**Wher we can modify static variable**\n\n- Anywhere either within the class and outisde of the class using the classname.\n- but, within class method, by using cls variable.",
      "metadata": {}
    },
    {
      "id": "0620938f-35df-4ac2-99c0-8e4a42d95a24",
      "cell_type": "markdown",
      "source": "`Note:` if we change the value of static variable by using either self or object reference variable.\n\ndo leter",
      "metadata": {}
    },
    {
      "id": "037c9557-7bcf-4503-af8a-bfe135880623",
      "cell_type": "markdown",
      "source": "##### Local Variable:\n\n- Sometimes to meet the requirement of the programmer, we can declare variable inside method directly such type of variable is know as local variable.\n- Local varaible will be created at the time of method execution and destroyed once method completes.\n- Local variables of a method cannot be accessed from outside of method.",
      "metadata": {}
    },
    {
      "id": "e9873938-e6a1-4e5f-b28a-1f810e676dc7",
      "cell_type": "markdown",
      "source": "#### Type of Methods:\n1. Instance Method\n2. Calss Method\n3. Static Method",
      "metadata": {}
    },
    {
      "id": "0e36de06-c2df-4f48-8572-b0d0fc356abe",
      "cell_type": "markdown",
      "source": "##### Instance Method:\n- Inside method implementation if we are using instance variable such type of methods are called instance method.\n- Inside instance method declaration mandetorily we have to pass one parameter that noting but self variable. def m1(self):\n- By using self varaible inside instance method we can access instance variables.\n- within the class we can call instance method by using self variable and outside of the class using the object reference.",
      "metadata": {}
    },
    {
      "id": "fa0796a6-ba4a-4be3-896e-282d8d6d9485",
      "cell_type": "code",
      "source": "class Student:\n    def __init__(self, name, rollno, marks):\n        self.name = name\n        self.rollno = rollno\n        self.marks = marks\n\n    # instacne method\n    def Grades(self):\n        if self.marks >= 90 and self.marks <= 100:\n            return 'A'\n        elif self.marks >= 80 and self.marks <= 90:\n            return 'B'\n        elif self.marks >= 70 and self.marks <= 80:\n            return 'C'\n        else:\n            return 'D' \n\n    # instance method\n    def display(self):\n        print('name:', self.name)\n        print('rollNo:', self.rollno)\n        # accessing instance method using self variable\n        print('Grade', self.Grades())\n",
      "metadata": {
        "trusted": true
      },
      "outputs": [],
      "execution_count": 36
    },
    {
      "id": "42b5e7b7-0fce-4756-a8d5-7590e3a2ad50",
      "cell_type": "code",
      "source": "s = Student('Ram', 343343, 90)\ns.display()",
      "metadata": {
        "trusted": true
      },
      "outputs": [
        {
          "name": "stdout",
          "output_type": "stream",
          "text": "name: Ram\nrollNo: 343343\nGrade A\n"
        }
      ],
      "execution_count": 37
    },
    {
      "id": "557c0714-f77b-4dd8-b60c-2e975ad46988",
      "cell_type": "markdown",
      "source": "##### Class Method:\n- Inside method implementation if we are using only class variable(static variable), then such type of methods we should declare as class method.\n- We can declare class method explicitly by using @classmethod decorator.\n- For class method we should provide cls variable at the time of declaration.\n- we can call classmethod by using classname or reference variable.",
      "metadata": {}
    },
    {
      "id": "10135d01-4681-47c8-b13f-22aadabe2f80",
      "cell_type": "code",
      "source": "class School:\n    schoolName = 'swami vivekanand vidyalay'\n\n    @classmethod\n    def display(cls):\n        print('School Name:', cls.schoolName)",
      "metadata": {
        "trusted": true
      },
      "outputs": [],
      "execution_count": 40
    },
    {
      "id": "96f47bb3-7240-4359-a430-04736c7e86e3",
      "cell_type": "code",
      "source": "s = School()\ns.display()",
      "metadata": {
        "trusted": true
      },
      "outputs": [
        {
          "name": "stdout",
          "output_type": "stream",
          "text": "School Name: swami vivekanand vidyalay\n"
        }
      ],
      "execution_count": 41
    },
    {
      "id": "61972522-f222-435f-b202-87ae592fb85f",
      "cell_type": "markdown",
      "source": "**Program to track number of object created for the class**",
      "metadata": {}
    },
    {
      "id": "80dc7d57-c23f-4a87-8977-099410c4d1d5",
      "cell_type": "code",
      "source": "class Test:\n    cnt = 0\n    def __init__(self):\n        Test.cnt += 1\n    @classmethod\n    def display(cls):\n        print('Number of Object creted:', cls.cnt)",
      "metadata": {
        "trusted": true
      },
      "outputs": [],
      "execution_count": 44
    },
    {
      "id": "ac67f444-b51c-436b-8bd6-24ad241d2b05",
      "cell_type": "code",
      "source": "t = Test()\nt = Test()\nt = Test()\nt = Test()\nt.display()",
      "metadata": {
        "trusted": true
      },
      "outputs": [
        {
          "name": "stdout",
          "output_type": "stream",
          "text": "Number of Object creted: 4\n"
        }
      ],
      "execution_count": 45
    },
    {
      "id": "d654dc62-363e-494a-935d-6be3ee309009",
      "cell_type": "markdown",
      "source": "##### Static Method\n- In general these methods are general utility methods.\n- Inside these methods we won't use any instance or class variables.\n- We can access static variable using classname and reference variable.",
      "metadata": {}
    },
    {
      "id": "d39f159e-b877-4d9e-bdca-ac9fd832b1e2",
      "cell_type": "markdown",
      "source": "#### Inner Class:\n\nSometimes we can declare class inside another class, such type of classes are called inner class.\n\nWithout existing one type of object if there is no chance of existing another type of object, then we should go for inner classes.\n\n- Without existing car object, there is no chance of existing engine object.\n- without existing university, there is no change of existing department object.",
      "metadata": {}
    },
    {
      "id": "cb489bca-d6f5-4736-81eb-102cd3bb5f9e",
      "cell_type": "code",
      "source": "class outer:\n    def __init__(self):\n        print('Outer Class constructor')\n    class inner:\n        def __init__(self):\n            print('Inner Class constructor')\n        @staticmethod\n        def m1():\n            print('inner class m1 method')",
      "metadata": {
        "trusted": true
      },
      "outputs": [],
      "execution_count": 6
    },
    {
      "id": "81555ecb-0292-4ea5-9f78-afdc6fa4b078",
      "cell_type": "code",
      "source": "o = outer()\ni = o.inner()\ni.m1()",
      "metadata": {
        "trusted": true
      },
      "outputs": [
        {
          "name": "stdout",
          "output_type": "stream",
          "text": "Outer Class constructor\nInner Class constructor\ninner class m1 method\n"
        }
      ],
      "execution_count": 7
    },
    {
      "id": "e17595ea-379c-43a3-ba37-fe41f6d8db88",
      "cell_type": "markdown",
      "source": "#### Destructor:\n- Destructor is a special methiod and name should be \\_\\_del\\_\\_\n- Just before destroying an object garbage collector always call destructor to perform cleanup activities.",
      "metadata": {}
    },
    {
      "id": "da59509e-ad64-41bb-bc47-dde8683ea35e",
      "cell_type": "code",
      "source": "import time\nclass Test:\n    def __init__(self):\n        print('constructor')\n    def __del__(self):\n        print('destructor')",
      "metadata": {
        "trusted": true
      },
      "outputs": [],
      "execution_count": 14
    },
    {
      "id": "cf2edf82-00b3-484f-adba-a941c682e57c",
      "cell_type": "code",
      "source": "t = Test()\nprint('End of application')",
      "metadata": {
        "trusted": true
      },
      "outputs": [
        {
          "name": "stdout",
          "output_type": "stream",
          "text": "constructor\nEnd of application\n"
        }
      ],
      "execution_count": 16
    },
    {
      "id": "5bb14928-71a2-4944-8c9e-32d1dfe55223",
      "cell_type": "code",
      "source": "t = Test()\nt = None\nprint('End of application')",
      "metadata": {
        "trusted": true
      },
      "outputs": [
        {
          "name": "stdout",
          "output_type": "stream",
          "text": "constructor\ndestructor\nEnd of application\n"
        }
      ],
      "execution_count": 18
    },
    {
      "id": "3055f3fb-0586-4b31-ab3e-423ea440d4aa",
      "cell_type": "code",
      "source": "",
      "metadata": {
        "trusted": true
      },
      "outputs": [],
      "execution_count": null
    }
  ]
}