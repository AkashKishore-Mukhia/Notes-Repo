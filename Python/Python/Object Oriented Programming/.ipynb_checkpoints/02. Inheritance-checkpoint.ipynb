{
 "cells": [
  {
   "cell_type": "markdown",
   "id": "3984821b",
   "metadata": {},
   "source": [
    "## Inhertance"
   ]
  },
  {
   "cell_type": "raw",
   "id": "711da133",
   "metadata": {},
   "source": [
    "Types of Inheritance:\n",
    "1. Single Level\n",
    "2. MultiLevel\n",
    "3. Multiple\n",
    "4. Herirachical"
   ]
  },
  {
   "cell_type": "markdown",
   "id": "b0ecdb34",
   "metadata": {},
   "source": [
    "### Single Level Inheritance"
   ]
  },
  {
   "cell_type": "code",
   "execution_count": 9,
   "id": "de966475",
   "metadata": {},
   "outputs": [
    {
     "name": "stdout",
     "output_type": "stream",
     "text": [
      "employee constructor\n",
      "person constructor\n",
      "name: akash\n",
      "idNumber: 18382\n",
      "salary: 38000\n",
      "position: ste\n"
     ]
    }
   ],
   "source": [
    "# base class / parent class\n",
    "class person:\n",
    "    def __init__(self, name, idnumber):\n",
    "        print('person constructor')\n",
    "        self.name = name\n",
    "        self.idnumber = idnumber\n",
    "    \n",
    "    def details(self):\n",
    "        print('name:', self.name)\n",
    "        print('idNumber:', self.idnumber)\n",
    "    \n",
    "\n",
    "\n",
    "# child class / derived class\n",
    "class employee(person):\n",
    "    def __init__(self, name, idnumber, position, salary):\n",
    "        print('employee constructor')\n",
    "        self.position = position\n",
    "        self.salary = salary\n",
    "        person.__init__(self, name, idnumber)    # calling the base class constructor\n",
    "\n",
    "    def details(self):\n",
    "        person.details(self)   # calling the base calls details() method\n",
    "        print('salary:', self.salary)\n",
    "        print('position:', self.position)\n",
    "\n",
    "\n",
    "e = employee('akash', 18382, 'ste', '38000')\n",
    "e.details()"
   ]
  },
  {
   "cell_type": "code",
   "execution_count": 20,
   "id": "0b432f56",
   "metadata": {},
   "outputs": [
    {
     "name": "stdout",
     "output_type": "stream",
     "text": [
      "5 40\n",
      "10\n"
     ]
    }
   ],
   "source": [
    "class base:\n",
    "    def __init__(self):\n",
    "        self.x = 10\n",
    "    \n",
    "    def show(self):\n",
    "        print(self.x)\n",
    "\n",
    "class derived(base):\n",
    "    def __init__(self, y):\n",
    "        self.y = y\n",
    "#         self.x = base.x  # it will throw an error because until contructor exe x will not be defined in base class accessing parent class variable\n",
    "        base.__init__(self) # we can get a copy of the varibale using base class constructor\n",
    "        self.x = 5\n",
    "        \n",
    "    def show(self):\n",
    "        print(self.x, self.y)\n",
    "\n",
    "        \n",
    "d = derived(40)\n",
    "d.show()\n",
    "\n",
    "b = base()\n",
    "b.show()\n"
   ]
  },
  {
   "cell_type": "code",
   "execution_count": 18,
   "id": "6360d411",
   "metadata": {},
   "outputs": [
    {
     "name": "stdout",
     "output_type": "stream",
     "text": [
      "organization constructor\n"
     ]
    },
    {
     "ename": "AttributeError",
     "evalue": "'super' object has no attribute 'person'",
     "output_type": "error",
     "traceback": [
      "\u001b[1;31m---------------------------------------------------------------------------\u001b[0m",
      "\u001b[1;31mAttributeError\u001b[0m                            Traceback (most recent call last)",
      "Cell \u001b[1;32mIn[18], line 9\u001b[0m\n\u001b[0;32m      5\u001b[0m         \u001b[38;5;28msuper\u001b[39m()\u001b[38;5;241m.\u001b[39mperson\u001b[38;5;241m.\u001b[39m\u001b[38;5;21m__init__\u001b[39m(\u001b[38;5;124m'\u001b[39m\u001b[38;5;124makash\u001b[39m\u001b[38;5;124m'\u001b[39m, \u001b[38;5;241m23245\u001b[39m)\n\u001b[0;32m      6\u001b[0m         \u001b[38;5;28mself\u001b[39m\u001b[38;5;241m.\u001b[39morg \u001b[38;5;241m=\u001b[39m org\n\u001b[1;32m----> 9\u001b[0m o \u001b[38;5;241m=\u001b[39m organization(\u001b[38;5;124m'\u001b[39m\u001b[38;5;124mcisco\u001b[39m\u001b[38;5;124m'\u001b[39m)\n\u001b[0;32m     10\u001b[0m o\u001b[38;5;241m.\u001b[39mdetails()\n",
      "Cell \u001b[1;32mIn[18], line 5\u001b[0m, in \u001b[0;36morganization.__init__\u001b[1;34m(self, org)\u001b[0m\n\u001b[0;32m      3\u001b[0m         \u001b[38;5;28mprint\u001b[39m(\u001b[38;5;124m'\u001b[39m\u001b[38;5;124morganization constructor\u001b[39m\u001b[38;5;124m'\u001b[39m)\n\u001b[0;32m      4\u001b[0m \u001b[38;5;66;03m#         super().__init__('akash', 23423, 'ste', 343434)\u001b[39;00m\n\u001b[1;32m----> 5\u001b[0m         \u001b[38;5;28msuper\u001b[39m()\u001b[38;5;241m.\u001b[39mperson\u001b[38;5;241m.\u001b[39m\u001b[38;5;21m__init__\u001b[39m(\u001b[38;5;124m'\u001b[39m\u001b[38;5;124makash\u001b[39m\u001b[38;5;124m'\u001b[39m, \u001b[38;5;241m23245\u001b[39m)\n\u001b[0;32m      6\u001b[0m         \u001b[38;5;28mself\u001b[39m\u001b[38;5;241m.\u001b[39morg \u001b[38;5;241m=\u001b[39m org\n",
      "\u001b[1;31mAttributeError\u001b[0m: 'super' object has no attribute 'person'"
     ]
    }
   ],
   "source": [
    "class organization(employee):\n",
    "    def __init__(self, org):\n",
    "        print('organization constructor')\n",
    "#         super().__init__('akash', 23423, 'ste', 343434)\n",
    "        super().person.__init__('akash', 23245)\n",
    "        self.org = org\n",
    "        \n",
    "\n",
    "o = organization('cisco')\n",
    "o.details()"
   ]
  },
  {
   "cell_type": "code",
   "execution_count": null,
   "id": "ed0c1c01",
   "metadata": {},
   "outputs": [],
   "source": []
  }
 ],
 "metadata": {
  "kernelspec": {
   "display_name": "Python 3 (ipykernel)",
   "language": "python",
   "name": "python3"
  },
  "language_info": {
   "codemirror_mode": {
    "name": "ipython",
    "version": 3
   },
   "file_extension": ".py",
   "mimetype": "text/x-python",
   "name": "python",
   "nbconvert_exporter": "python",
   "pygments_lexer": "ipython3",
   "version": "3.11.5"
  }
 },
 "nbformat": 4,
 "nbformat_minor": 5
}
