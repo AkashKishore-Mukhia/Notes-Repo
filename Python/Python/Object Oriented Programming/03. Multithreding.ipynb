{
 "cells": [
  {
   "cell_type": "markdown",
   "id": "877a16dd",
   "metadata": {},
   "source": [
    "## Multithreading"
   ]
  },
  {
   "cell_type": "raw",
   "id": "46553984",
   "metadata": {},
   "source": [
    "Multi Tasking - executing multiple tasks simultaneously"
   ]
  },
  {
   "cell_type": "raw",
   "id": "b1ba7421",
   "metadata": {},
   "source": [
    "Types of Multi Tasking:\n",
    "1. process based multi tasking- Executing several tasks simultaneously where each task is separate indepandent process.\n",
    "2. thread based multi tasking - Executing several tasks simultaneously where each task is sperate indepandent part of the same program."
   ]
  },
  {
   "cell_type": "raw",
   "id": "9f536256",
   "metadata": {},
   "source": [
    "Ways of Creating Thread Python:\n",
    "1. Creating a thread without using any class\n",
    "2. Creating a thread by extending thread class\n",
    "3. Creating a thread without extending thread class"
   ]
  },
  {
   "cell_type": "code",
   "execution_count": 6,
   "id": "72fee1e4",
   "metadata": {},
   "outputs": [
    {
     "name": "stdout",
     "output_type": "stream",
     "text": [
      "printing the code (display fun) from Thread-10 (display)\n",
      "printing the code from MainThread\n"
     ]
    },
    {
     "name": "stderr",
     "output_type": "stream",
     "text": [
      "C:\\Users\\amukhia\\AppData\\Local\\Temp\\ipykernel_15160\\3400896980.py:5: DeprecationWarning: getName() is deprecated, get the name attribute instead\n",
      "  print('printing the code (display fun) from', current_thread().getName())\n",
      "C:\\Users\\amukhia\\AppData\\Local\\Temp\\ipykernel_15160\\3400896980.py:9: DeprecationWarning: getName() is deprecated, get the name attribute instead\n",
      "  print('printing the code from', current_thread().getName())\n"
     ]
    }
   ],
   "source": [
    "# way 1\n",
    "from threading import *\n",
    "\n",
    "def display():\n",
    "    print('printing the code (display fun) from', current_thread().getName())\n",
    "    \n",
    "t = Thread(target=display)  # Main Thread creates child thread\n",
    "t.start()   # Main thread starts child thread\n",
    "print('printing the code from', current_thread().getName())"
   ]
  },
  {
   "cell_type": "code",
   "execution_count": 16,
   "id": "56ac628d",
   "metadata": {},
   "outputs": [
    {
     "name": "stdout",
     "output_type": "stream",
     "text": [
      "Child Thread\n",
      "Child Thread\n",
      "Child Thread\n",
      "Child Thread\n",
      "Child Thread\n",
      "Child Thread\n",
      "Child Thread\n",
      "Child Thread\n",
      "Child Thread\n",
      "Child Thread\n",
      "Main Thread\n",
      "Main Thread\n",
      "Main Thread\n",
      "Main Thread\n",
      "Main Thread\n",
      "Main Thread\n",
      "Main Thread\n",
      "Main Thread\n",
      "Main Thread\n",
      "Main Thread\n"
     ]
    }
   ],
   "source": [
    "def display():\n",
    "    for i in range(10):\n",
    "        print('Child Thread')\n",
    "        \n",
    "t = Thread(target=display)\n",
    "t.start()\n",
    "for i in range(10):\n",
    "    print('Main Thread')"
   ]
  },
  {
   "cell_type": "raw",
   "id": "911d78e3",
   "metadata": {},
   "source": [
    "Throught the output is in organized manner we can't predict which thread will execute first.\n",
    "Because the concept of threading is executing multiple task that are independent of each other."
   ]
  },
  {
   "cell_type": "code",
   "execution_count": null,
   "id": "73e6f00c",
   "metadata": {},
   "outputs": [],
   "source": []
  }
 ],
 "metadata": {
  "kernelspec": {
   "display_name": "Python 3 (ipykernel)",
   "language": "python",
   "name": "python3"
  },
  "language_info": {
   "codemirror_mode": {
    "name": "ipython",
    "version": 3
   },
   "file_extension": ".py",
   "mimetype": "text/x-python",
   "name": "python",
   "nbconvert_exporter": "python",
   "pygments_lexer": "ipython3",
   "version": "3.11.5"
  }
 },
 "nbformat": 4,
 "nbformat_minor": 5
}
