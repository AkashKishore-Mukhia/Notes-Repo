{
 "cells": [
  {
   "cell_type": "markdown",
   "id": "16bd69f6",
   "metadata": {},
   "source": [
    "# Class"
   ]
  },
  {
   "cell_type": "raw",
   "id": "b213d4d1",
   "metadata": {},
   "source": [
    "Class => templete or blueprint of an real life entity\n",
    "Object => physical instance of that class.\n",
    "\n",
    "eg: if we have a blueprint of a building we can make any number of building and also add changes to the blueprint for some extended feature for that building as well.\n",
    "here calss => building blueprint\n",
    "     object => physical buildings"
   ]
  },
  {
   "cell_type": "raw",
   "id": "eae7ed6c",
   "metadata": {},
   "source": [
    "```syntax```\n",
    "class <className>:\n",
    "    def __init__(self, <parameters>):  // constructor"
   ]
  },
  {
   "cell_type": "code",
   "execution_count": 13,
   "id": "c2b8d1a2",
   "metadata": {},
   "outputs": [],
   "source": [
    "class home():\n",
    "    def __init(self, parameters):\n",
    "        pass"
   ]
  },
  {
   "cell_type": "code",
   "execution_count": 11,
   "id": "24c6fcce",
   "metadata": {},
   "outputs": [],
   "source": [
    "h = home()"
   ]
  },
  {
   "cell_type": "markdown",
   "id": "b23d018e",
   "metadata": {},
   "source": [
    "## self variable"
   ]
  },
  {
   "cell_type": "raw",
   "id": "d90763d9",
   "metadata": {},
   "source": [
    "self => self is a refeance variable always refers/pointing to the current object.\n",
    "whitin python class to refer current object we use self variable.\n",
    "The first argu of constructor and instance method should be self."
   ]
  },
  {
   "cell_type": "code",
   "execution_count": 22,
   "id": "b9fe5546",
   "metadata": {},
   "outputs": [
    {
     "name": "stdout",
     "output_type": "stream",
     "text": [
      "12434\n",
      "akash\n"
     ]
    }
   ],
   "source": [
    "class employee:\n",
    "    def __init__(self, ename):\n",
    "        self.ename = ename   # self.ename instance variable of employee object\n",
    "        \n",
    "    def add(self, eno):\n",
    "        self.eno = eno    # in any method we can add object instance variable and assign an value\n",
    "        \n",
    "    def show(self):\n",
    "        print(self.eno)\n",
    "        print(self.ename)\n",
    "\n",
    "e = employee('akash')\n",
    "e.add(12434)\n",
    "e.show()"
   ]
  },
  {
   "cell_type": "raw",
   "id": "c20cde3d",
   "metadata": {},
   "source": [
    "note: if not declered python will be providing default constructor."
   ]
  },
  {
   "cell_type": "markdown",
   "id": "54717a61",
   "metadata": {},
   "source": [
    "## constructor"
   ]
  },
  {
   "cell_type": "code",
   "execution_count": 25,
   "id": "7790709a",
   "metadata": {},
   "outputs": [
    {
     "ename": "TypeError",
     "evalue": "constructor.__init__() missing 1 required positional argument: 'x'",
     "output_type": "error",
     "traceback": [
      "\u001b[1;31m---------------------------------------------------------------------------\u001b[0m",
      "\u001b[1;31mTypeError\u001b[0m                                 Traceback (most recent call last)",
      "Cell \u001b[1;32mIn[25], line 7\u001b[0m\n\u001b[0;32m      4\u001b[0m     \u001b[38;5;28;01mdef\u001b[39;00m \u001b[38;5;21m__init__\u001b[39m(\u001b[38;5;28mself\u001b[39m, x): \n\u001b[0;32m      5\u001b[0m         \u001b[38;5;28mprint\u001b[39m(\u001b[38;5;124m'\u001b[39m\u001b[38;5;124mconst with 1 arg\u001b[39m\u001b[38;5;124m'\u001b[39m)\n\u001b[1;32m----> 7\u001b[0m c \u001b[38;5;241m=\u001b[39m constructor()\n",
      "\u001b[1;31mTypeError\u001b[0m: constructor.__init__() missing 1 required positional argument: 'x'"
     ]
    }
   ],
   "source": [
    "class constructor:\n",
    "    def __init__(self):\n",
    "        print('const with 0 arg')\n",
    "    def __init__(self, x): \n",
    "        print('const with 1 arg')\n",
    "\n",
    "c = constructor()"
   ]
  },
  {
   "cell_type": "raw",
   "id": "53a6a7d6",
   "metadata": {},
   "source": [
    "note: The above error occurs because their is not such thing as constuctor overloading in python.\n",
    "So the first constructor is overwritten by the second one.\n",
    "in python class constructor is optional if not provided PVM will provide default constructor."
   ]
  },
  {
   "cell_type": "markdown",
   "id": "45223276",
   "metadata": {},
   "source": [
    "---------------------------------------------------------------------------"
   ]
  },
  {
   "cell_type": "markdown",
   "id": "0171a92a",
   "metadata": {},
   "source": [
    "## types of variable in a class"
   ]
  },
  {
   "cell_type": "raw",
   "id": "97e40ab1",
   "metadata": {},
   "source": [
    "1. Instance Variable / object level varibales\n",
    "2. Static Variable / class level variables\n",
    "3. Local Variable / class method variables"
   ]
  },
  {
   "cell_type": "raw",
   "id": "fe87de6f",
   "metadata": {},
   "source": [
    "types of method in a class"
   ]
  },
  {
   "cell_type": "raw",
   "id": "4a6449cb",
   "metadata": {},
   "source": [
    "1. Instace Method\n",
    "2. Class Method\n",
    "3. Static Method"
   ]
  },
  {
   "cell_type": "code",
   "execution_count": 34,
   "id": "3c5c876c",
   "metadata": {},
   "outputs": [
    {
     "name": "stdout",
     "output_type": "stream",
     "text": [
      "Model Name: Thinkpad X1 carbon gen 8\n",
      "Price: 120000\n",
      "Lenovo\n",
      "nothing much\n"
     ]
    }
   ],
   "source": [
    "class Thinkpad:\n",
    "    manufacturedBy = \"Lenovo\"\n",
    "    \n",
    "    def __init__(self, modelName, price): \n",
    "        self.modelName = modelName\n",
    "        self.price = price\n",
    "        \n",
    "    #Instance Method\n",
    "    def showInfo(self):\n",
    "        print('Model Name:', self.modelName)\n",
    "        print('Price:', self.price)\n",
    "        \n",
    "    #Class Method\n",
    "    @classmethod      # decorators\n",
    "    def getManufactureCompany(cls):\n",
    "        print(cls.manufacturedBy)\n",
    "    \n",
    "    @staticmethod\n",
    "    def otherFun():\n",
    "        print('nothing much')\n",
    "        \n",
    "\n",
    "t = Thinkpad('Thinkpad X1 carbon gen 8', 120000)\n",
    "t.showInfo()\n",
    "t.getManufactureCompany()\n",
    "t.otherFun()"
   ]
  },
  {
   "cell_type": "code",
   "execution_count": 13,
   "id": "7230f503",
   "metadata": {},
   "outputs": [
    {
     "ename": "TypeError",
     "evalue": "test.callMyName() takes 0 positional arguments but 1 was given",
     "output_type": "error",
     "traceback": [
      "\u001b[1;31m---------------------------------------------------------------------------\u001b[0m",
      "\u001b[1;31mTypeError\u001b[0m                                 Traceback (most recent call last)",
      "Cell \u001b[1;32mIn[13], line 8\u001b[0m\n\u001b[0;32m      5\u001b[0m     \u001b[38;5;28;01mdef\u001b[39;00m \u001b[38;5;21mcallMyName\u001b[39m():\n\u001b[0;32m      6\u001b[0m         \u001b[38;5;28mprint\u001b[39m(\u001b[38;5;124m'\u001b[39m\u001b[38;5;124mi am a function inside the constructor\u001b[39m\u001b[38;5;124m'\u001b[39m)\n\u001b[1;32m----> 8\u001b[0m t \u001b[38;5;241m=\u001b[39m test()\n",
      "Cell \u001b[1;32mIn[13], line 3\u001b[0m, in \u001b[0;36mtest.__init__\u001b[1;34m(self)\u001b[0m\n\u001b[0;32m      2\u001b[0m \u001b[38;5;28;01mdef\u001b[39;00m \u001b[38;5;21m__init__\u001b[39m(\u001b[38;5;28mself\u001b[39m):\n\u001b[1;32m----> 3\u001b[0m     \u001b[38;5;28mself\u001b[39m\u001b[38;5;241m.\u001b[39mcallMyName()\n",
      "\u001b[1;31mTypeError\u001b[0m: test.callMyName() takes 0 positional arguments but 1 was given"
     ]
    }
   ],
   "source": [
    "class test:\n",
    "    def __init__(self):\n",
    "        self.callMyName()\n",
    "        \n",
    "    def callMyName():\n",
    "        print('i am a function inside the constructor')\n",
    "\n",
    "t = test()"
   ]
  },
  {
   "cell_type": "code",
   "execution_count": 2,
   "id": "6bc159b8",
   "metadata": {},
   "outputs": [
    {
     "name": "stdout",
     "output_type": "stream",
     "text": [
      "akash\n",
      "True\n"
     ]
    }
   ],
   "source": [
    "# assignment of simpli learn\n",
    "\n",
    "class BasePasswordManager:\n",
    "    '''Base Password Manager'''\n",
    "    \n",
    "    def __init__(self):\n",
    "        self.old_passwords = ['whiterose', 'akash']\n",
    "    \n",
    "    def get_password(self):\n",
    "        self.list_size = len(self.old_passwords)\n",
    "        return self.old_passwords[self.list_size-1]\n",
    "    \n",
    "    def is_correct(self, password):\n",
    "        return self.old_passwords[self.list_size-1] == password\n",
    "        \n",
    "        \n",
    "b = BasePasswordManager()\n",
    "print(b.get_password())\n",
    "print(b.is_correct('akash'))\n",
    "        \n",
    "    "
   ]
  },
  {
   "cell_type": "code",
   "execution_count": 7,
   "id": "0f7cc36c",
   "metadata": {},
   "outputs": [
    {
     "name": "stdout",
     "output_type": "stream",
     "text": [
      "base class static variable: 10\n",
      "5 40\n",
      "after updated base class static variable: 5\n"
     ]
    }
   ],
   "source": [
    "class base:\n",
    "    \n",
    "    x = 10\n",
    "    def __init__(self):\n",
    "        pass\n",
    "    \n",
    "    def show(self):\n",
    "        pass\n",
    "\n",
    "class derived(base):\n",
    "    def __init__(self, y):\n",
    "        self.y = y\n",
    "#        self.x = base.x  # it will throw an error because until contructor exe x will not be defined in base class accessing parent class variable\n",
    "         # we can get a copy of the varibale using base class constructor\n",
    "        base.x = 5\n",
    "        \n",
    "    def show(self):\n",
    "        print(base.x, self.y)\n",
    "\n",
    "\n",
    "print('base class static variable:', base.x)\n",
    "        \n",
    "d = derived(40)\n",
    "d.show()\n",
    "\n",
    "print('after updated base class static variable:', base.x)\n"
   ]
  },
  {
   "cell_type": "code",
   "execution_count": 9,
   "id": "0768ef4d",
   "metadata": {},
   "outputs": [
    {
     "name": "stdout",
     "output_type": "stream",
     "text": [
      "Initially\n",
      "a.stream = cse\n",
      "b.stream = cse\n",
      "\n",
      "After changing a.stream\n",
      "a.stream = ece\n",
      "b.stream = cse\n",
      "cse\n"
     ]
    }
   ],
   "source": [
    "# Class for Computer Science Student \n",
    "class CSStudent: \n",
    "    stream = 'cse'\t # Class Variable \n",
    "    def __init__(self, name, roll): \n",
    "        self.name = name \n",
    "        self.roll = roll \n",
    "\n",
    "# Driver program to test the functionality \n",
    "# Creating objects of CSStudent class \n",
    "a = CSStudent(\"Geek\", 1) \n",
    "b = CSStudent(\"Nerd\", 2) \n",
    "\n",
    "print (\"Initially\")\n",
    "print (\"a.stream =\", a.stream )\n",
    "print (\"b.stream =\", b.stream )\n",
    "\n",
    "# This thing doesn't change class(static) variable \n",
    "# Instead creates instance variable for the object \n",
    "# 'a' that shadows class member. \n",
    "a.stream = \"ece\"\n",
    "\n",
    "print (\"\\nAfter changing a.stream\")\n",
    "print (\"a.stream =\", a.stream )\n",
    "print (\"b.stream =\", b.stream )\n",
    "print(CSStudent.stream)\n"
   ]
  },
  {
   "cell_type": "code",
   "execution_count": null,
   "id": "01fdc9f6",
   "metadata": {},
   "outputs": [],
   "source": []
  }
 ],
 "metadata": {
  "kernelspec": {
   "display_name": "Python 3 (ipykernel)",
   "language": "python",
   "name": "python3"
  },
  "language_info": {
   "codemirror_mode": {
    "name": "ipython",
    "version": 3
   },
   "file_extension": ".py",
   "mimetype": "text/x-python",
   "name": "python",
   "nbconvert_exporter": "python",
   "pygments_lexer": "ipython3",
   "version": "3.11.5"
  }
 },
 "nbformat": 4,
 "nbformat_minor": 5
}
