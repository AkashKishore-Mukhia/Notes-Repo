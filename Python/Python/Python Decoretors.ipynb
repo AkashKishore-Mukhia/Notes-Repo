{
 "cells": [
  {
   "cell_type": "code",
   "execution_count": 17,
   "id": "495bd090",
   "metadata": {},
   "outputs": [],
   "source": [
    "def outer():\n",
    "    outerFunVal = 45000\n",
    "    def inner():\n",
    "        print('outerFunVal', outerFunVal)\n",
    "    return inner"
   ]
  },
  {
   "cell_type": "code",
   "execution_count": 19,
   "id": "98403c7e",
   "metadata": {},
   "outputs": [
    {
     "name": "stdout",
     "output_type": "stream",
     "text": [
      "thow the outer func scope is over using f1 i can access outer func values\n",
      "outerFunVal 45000\n"
     ]
    }
   ],
   "source": [
    "f1 = outer()\n",
    "print('thow the outer func scope is over using f1 i can access outer func values')\n",
    "f1()"
   ]
  },
  {
   "cell_type": "code",
   "execution_count": 24,
   "id": "81dd9b95",
   "metadata": {},
   "outputs": [
    {
     "name": "stdout",
     "output_type": "stream",
     "text": [
      "5.0 2.0 infinite\n"
     ]
    }
   ],
   "source": [
    "# A decorator is a design pattern in Python that allows a user to add new functionality to an existing object\n",
    "# without modifying its structure.\n",
    "\n",
    "# Function Decorators\n",
    "\n",
    "def smartdivision(func):\n",
    "    def inner(a, b):\n",
    "        if b==0:\n",
    "            return 'infinite'\n",
    "        else:\n",
    "            return func(a, b)\n",
    "    return inner\n",
    "\n",
    "# @smartdivision\n",
    "def division(a, b):\n",
    "    return a/b\n",
    "    \n",
    "    \n",
    "print(division(10, 2)\n",
    ",division(10, 5)\n",
    ",division(10, 0))"
   ]
  },
  {
   "cell_type": "code",
   "execution_count": 27,
   "id": "a45996be",
   "metadata": {},
   "outputs": [
    {
     "name": "stdout",
     "output_type": "stream",
     "text": [
      "5.0 2.0 infinite\n"
     ]
    }
   ],
   "source": [
    "# internally what's happens is(remove the decorator and run)\n",
    "# when ever we call division with decorator\n",
    "\n",
    "objectref = smartdivision(division)   # it passes division func to the decorator func\n",
    "print(objectref(10, 2),       # then it's calls the object ref with the arguments which is refers to the smartdivision wrapper func\n",
    "objectref(10, 5),\n",
    "objectref(10, 0))\n"
   ]
  }
 ],
 "metadata": {
  "kernelspec": {
   "display_name": "Python 3 (ipykernel)",
   "language": "python",
   "name": "python3"
  },
  "language_info": {
   "codemirror_mode": {
    "name": "ipython",
    "version": 3
   },
   "file_extension": ".py",
   "mimetype": "text/x-python",
   "name": "python",
   "nbconvert_exporter": "python",
   "pygments_lexer": "ipython3",
   "version": "3.11.5"
  }
 },
 "nbformat": 4,
 "nbformat_minor": 5
}
