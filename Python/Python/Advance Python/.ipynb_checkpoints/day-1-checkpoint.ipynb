{
 "cells": [
  {
   "cell_type": "markdown",
   "id": "578bdac6",
   "metadata": {},
   "source": [
    "## String vs Bytes"
   ]
  },
  {
   "cell_type": "code",
   "execution_count": 10,
   "id": "aa9c0e28",
   "metadata": {},
   "outputs": [
    {
     "data": {
      "text/plain": [
       "'Advance Python course By'"
      ]
     },
     "execution_count": 10,
     "metadata": {},
     "output_type": "execute_result"
    }
   ],
   "source": [
    "str = 'Advance Python course By'\n",
    "str"
   ]
  },
  {
   "cell_type": "code",
   "execution_count": 11,
   "id": "e48e71e2",
   "metadata": {},
   "outputs": [
    {
     "data": {
      "text/plain": [
       "b'ABC'"
      ]
     },
     "execution_count": 11,
     "metadata": {},
     "output_type": "execute_result"
    }
   ],
   "source": [
    "bStr = bytes([0x41, 0x42, 0x43])\n",
    "bStr"
   ]
  },
  {
   "cell_type": "raw",
   "id": "e1a5c067",
   "metadata": {},
   "source": [
    "We can't add bytes with str. it need to cast to byte or string."
   ]
  },
  {
   "cell_type": "code",
   "execution_count": 12,
   "id": "80a4c76a",
   "metadata": {},
   "outputs": [
    {
     "ename": "TypeError",
     "evalue": "can only concatenate str (not \"bytes\") to str",
     "output_type": "error",
     "traceback": [
      "\u001b[1;31m---------------------------------------------------------------------------\u001b[0m",
      "\u001b[1;31mTypeError\u001b[0m                                 Traceback (most recent call last)",
      "Cell \u001b[1;32mIn[12], line 1\u001b[0m\n\u001b[1;32m----> 1\u001b[0m \u001b[38;5;28mstr\u001b[39m \u001b[38;5;241m+\u001b[39m bStr\n",
      "\u001b[1;31mTypeError\u001b[0m: can only concatenate str (not \"bytes\") to str"
     ]
    }
   ],
   "source": [
    "str + bStr"
   ]
  },
  {
   "cell_type": "code",
   "execution_count": 13,
   "id": "faec93cb",
   "metadata": {},
   "outputs": [
    {
     "data": {
      "text/plain": [
       "'ABC'"
      ]
     },
     "execution_count": 13,
     "metadata": {},
     "output_type": "execute_result"
    }
   ],
   "source": [
    "bStr = bStr.decode('utf-8')\n",
    "bStr"
   ]
  },
  {
   "cell_type": "code",
   "execution_count": 14,
   "id": "c3088706",
   "metadata": {},
   "outputs": [
    {
     "data": {
      "text/plain": [
       "'Advance Python course ByABC'"
      ]
     },
     "execution_count": 14,
     "metadata": {},
     "output_type": "execute_result"
    }
   ],
   "source": [
    "str + bStr"
   ]
  },
  {
   "cell_type": "code",
   "execution_count": null,
   "id": "d902b6b0",
   "metadata": {},
   "outputs": [],
   "source": []
  },
  {
   "cell_type": "markdown",
   "id": "c4695401",
   "metadata": {},
   "source": [
    "## String Formating"
   ]
  },
  {
   "cell_type": "code",
   "execution_count": 16,
   "id": "124c78f8",
   "metadata": {},
   "outputs": [
    {
     "data": {
      "text/plain": [
       "'Advance Python course by joe malini'"
      ]
     },
     "execution_count": 16,
     "metadata": {},
     "output_type": "execute_result"
    }
   ],
   "source": [
    "formatStr = 'Advance Python course by {0} {1}'.format('joe', 'malini')\n",
    "formatStr"
   ]
  },
  {
   "cell_type": "code",
   "execution_count": 19,
   "id": "85ed67f9",
   "metadata": {},
   "outputs": [
    {
     "data": {
      "text/plain": [
       "'I am working in cisco as ste'"
      ]
     },
     "execution_count": 19,
     "metadata": {},
     "output_type": "execute_result"
    }
   ],
   "source": [
    "from string import Template\n",
    "templ = Template('I am working in ${company} as ${role}')\n",
    "\n",
    "str1 = templ.substitute(company='cisco', role='ste')\n",
    "str1"
   ]
  },
  {
   "cell_type": "code",
   "execution_count": 21,
   "id": "97490034",
   "metadata": {},
   "outputs": [
    {
     "data": {
      "text/plain": [
       "'I am working in cisco as ste'"
      ]
     },
     "execution_count": 21,
     "metadata": {},
     "output_type": "execute_result"
    }
   ],
   "source": [
    "sData = {\n",
    "    'company': 'cisco',\n",
    "    'role': 'ste'\n",
    "}\n",
    "templ.substitute(sData)"
   ]
  },
  {
   "cell_type": "code",
   "execution_count": null,
   "id": "16fcc6a9",
   "metadata": {},
   "outputs": [],
   "source": []
  },
  {
   "cell_type": "code",
   "execution_count": 26,
   "id": "5a2a7995",
   "metadata": {},
   "outputs": [
    {
     "name": "stdout",
     "output_type": "stream",
     "text": [
      "a c\n",
      "b d\n"
     ]
    }
   ],
   "source": [
    "list1 = ['a', 'b']\n",
    "list2 = ['c', 'd']\n",
    "\n",
    "for i in zip(list1, list2):\n",
    "    print(i[0], i[1])"
   ]
  },
  {
   "cell_type": "code",
   "execution_count": null,
   "id": "d3043ffc",
   "metadata": {},
   "outputs": [],
   "source": []
  }
 ],
 "metadata": {
  "kernelspec": {
   "display_name": "Python 3 (ipykernel)",
   "language": "python",
   "name": "python3"
  },
  "language_info": {
   "codemirror_mode": {
    "name": "ipython",
    "version": 3
   },
   "file_extension": ".py",
   "mimetype": "text/x-python",
   "name": "python",
   "nbconvert_exporter": "python",
   "pygments_lexer": "ipython3",
   "version": "3.11.5"
  }
 },
 "nbformat": 4,
 "nbformat_minor": 5
}
