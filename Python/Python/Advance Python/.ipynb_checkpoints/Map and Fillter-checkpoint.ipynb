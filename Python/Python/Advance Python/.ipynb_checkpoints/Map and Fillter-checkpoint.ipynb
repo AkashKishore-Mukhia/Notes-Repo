{
 "cells": [
  {
   "cell_type": "markdown",
   "id": "d619e0fa",
   "metadata": {},
   "source": [
    "## Filter and Map"
   ]
  },
  {
   "cell_type": "code",
   "execution_count": 1,
   "id": "9e3069b6",
   "metadata": {},
   "outputs": [],
   "source": [
    "num = [1,5,6,6,4,2,4]"
   ]
  },
  {
   "cell_type": "code",
   "execution_count": 5,
   "id": "78d6cfd6",
   "metadata": {},
   "outputs": [
    {
     "name": "stdout",
     "output_type": "stream",
     "text": [
      "[1, 5]\n"
     ]
    },
    {
     "data": {
      "text/plain": [
       "[6, 6, 4, 2, 4]"
      ]
     },
     "execution_count": 5,
     "metadata": {},
     "output_type": "execute_result"
    }
   ],
   "source": [
    "def oddFilterFunc(x):\n",
    "    if x % 2 != 0:\n",
    "        return True\n",
    "    return False\n",
    "\n",
    "def evenFilterFunc(x):\n",
    "    if x % 2 == 0:\n",
    "        return True\n",
    "    return False\n",
    "\n",
    "odd_num = list(filter(oddFilterFunc, num))\n",
    "print(odd_num)\n",
    "\n",
    "even_num = list(filter(evenFilterFunc, num))\n",
    "even_num"
   ]
  },
  {
   "cell_type": "code",
   "execution_count": 8,
   "id": "4b022c17",
   "metadata": {},
   "outputs": [
    {
     "data": {
      "text/plain": [
       "['one', 'five', None, None, 'four', 'two', 'four']"
      ]
     },
     "execution_count": 8,
     "metadata": {},
     "output_type": "execute_result"
    }
   ],
   "source": [
    "\n",
    "def map_fun(x):\n",
    "    if(x == 1):\n",
    "        return 'one'\n",
    "    elif(x == 2):\n",
    "        return 'two'\n",
    "    elif(x==3):\n",
    "        return 'three'\n",
    "    elif(x==4):\n",
    "        return 'four'\n",
    "    elif(x==5):\n",
    "        return 'five'\n",
    "\n",
    "\n",
    "spell_num = list(map(map_fun, num))\n",
    "spell_num"
   ]
  },
  {
   "cell_type": "code",
   "execution_count": null,
   "id": "cf43a022",
   "metadata": {},
   "outputs": [],
   "source": []
  }
 ],
 "metadata": {
  "kernelspec": {
   "display_name": "Python 3 (ipykernel)",
   "language": "python",
   "name": "python3"
  },
  "language_info": {
   "codemirror_mode": {
    "name": "ipython",
    "version": 3
   },
   "file_extension": ".py",
   "mimetype": "text/x-python",
   "name": "python",
   "nbconvert_exporter": "python",
   "pygments_lexer": "ipython3",
   "version": "3.11.5"
  }
 },
 "nbformat": 4,
 "nbformat_minor": 5
}
