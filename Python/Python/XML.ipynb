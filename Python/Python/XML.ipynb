{
 "cells": [
  {
   "cell_type": "markdown",
   "id": "98193b5b",
   "metadata": {},
   "source": [
    "## XML"
   ]
  },
  {
   "cell_type": "raw",
   "id": "eafce924",
   "metadata": {},
   "source": [
    "xml is a generalized way of describing hierarchical structured data. \n",
    "An xml document contains one or more elements, which are delimited by start and end tags.\n",
    "\n",
    "# xml document\n",
    "<foo>\n",
    "</foo>"
   ]
  },
  {
   "cell_type": "code",
   "execution_count": null,
   "id": "158594be",
   "metadata": {},
   "outputs": [],
   "source": []
  }
 ],
 "metadata": {
  "kernelspec": {
   "display_name": "Python 3 (ipykernel)",
   "language": "python",
   "name": "python3"
  },
  "language_info": {
   "codemirror_mode": {
    "name": "ipython",
    "version": 3
   },
   "file_extension": ".py",
   "mimetype": "text/x-python",
   "name": "python",
   "nbconvert_exporter": "python",
   "pygments_lexer": "ipython3",
   "version": "3.11.5"
  }
 },
 "nbformat": 4,
 "nbformat_minor": 5
}
